{
 "cells": [
  {
   "cell_type": "code",
   "execution_count": 2,
   "id": "d12a558d",
   "metadata": {
    "execution": {
     "iopub.execute_input": "2022-04-29T10:17:40.884318Z",
     "iopub.status.busy": "2022-04-29T10:17:40.884086Z",
     "iopub.status.idle": "2022-04-29T10:17:42.298770Z",
     "shell.execute_reply": "2022-04-29T10:17:42.297942Z",
     "shell.execute_reply.started": "2022-04-29T10:17:40.884293Z"
    },
    "scrolled": true,
    "tags": []
   },
   "outputs": [],
   "source": [
    "import numpy as np\n",
    "import pandas as pd\n",
    "from scipy.stats import norm\n",
    "import random\n",
    "\n",
    "import sys\n",
    "\n",
    "sys.path.append(\"..\")\n",
    "\n",
    "import time\n",
    "import matplotlib.pyplot as plt\n",
    "\n",
    "import bspline\n",
    "import bspline.splinelab as splinelab"
   ]
  },
  {
   "cell_type": "markdown",
   "id": "b94899cd",
   "metadata": {},
   "source": [
    "## Данные"
   ]
  },
  {
   "cell_type": "markdown",
   "id": "37f9066d",
   "metadata": {},
   "source": [
    "#### AFLT"
   ]
  },
  {
   "cell_type": "code",
   "execution_count": 3,
   "id": "ff22adb7",
   "metadata": {
    "execution": {
     "iopub.execute_input": "2022-04-29T10:17:43.371361Z",
     "iopub.status.busy": "2022-04-29T10:17:43.371084Z",
     "iopub.status.idle": "2022-04-29T10:17:43.378049Z",
     "shell.execute_reply": "2022-04-29T10:17:43.377123Z",
     "shell.execute_reply.started": "2022-04-29T10:17:43.371331Z"
    },
    "scrolled": true,
    "tags": []
   },
   "outputs": [],
   "source": [
    "import pandas as pd\n",
    "\n",
    "interp_df = pd.DataFrame()\n",
    "interp_df['Date'] = pd.date_range(start=\"2021-04-15\", end=\"2021-06-14\", freq='D')"
   ]
  },
  {
   "cell_type": "code",
   "execution_count": 4,
   "id": "6a57f86a",
   "metadata": {
    "execution": {
     "iopub.execute_input": "2022-04-29T10:17:43.555643Z",
     "iopub.status.busy": "2022-04-29T10:17:43.555270Z",
     "iopub.status.idle": "2022-04-29T10:17:43.570573Z",
     "shell.execute_reply": "2022-04-29T10:17:43.569777Z",
     "shell.execute_reply.started": "2022-04-29T10:17:43.555615Z"
    },
    "scrolled": true,
    "tags": []
   },
   "outputs": [],
   "source": [
    "AFLT = pd.read_csv('AFLT.ME.csv')\n",
    "\n",
    "AFLT['Date'] = AFLT['Date'].apply(lambda x: pd.to_datetime(x, format='%Y-%m-%d'))\n",
    "\n",
    "#AFLT=AFLT.set_index('Date')\n",
    "AFLT = AFLT[[\"Date\",'Adj Close']]\n",
    "AFLT.columns = [\"Date\",\"S0\"]"
   ]
  },
  {
   "cell_type": "code",
   "execution_count": 5,
   "id": "7101115a",
   "metadata": {
    "scrolled": false
   },
   "outputs": [],
   "source": [
    "last_stock_price = AFLT.iloc[-1][1]"
   ]
  },
  {
   "cell_type": "code",
   "execution_count": 6,
   "id": "1a776883",
   "metadata": {
    "execution": {
     "iopub.execute_input": "2022-04-29T10:17:43.753644Z",
     "iopub.status.busy": "2022-04-29T10:17:43.753416Z",
     "iopub.status.idle": "2022-04-29T10:17:43.762949Z",
     "shell.execute_reply": "2022-04-29T10:17:43.762188Z",
     "shell.execute_reply.started": "2022-04-29T10:17:43.753620Z"
    },
    "scrolled": true,
    "tags": []
   },
   "outputs": [],
   "source": [
    "# интерполируем цену акции\n",
    "interp_df['S0'] = pd.merge(left=interp_df, right=AFLT, on='Date', how='left')['S0'].interpolate(method='linear')\n",
    "interp_df = interp_df.set_index('Date')"
   ]
  },
  {
   "cell_type": "code",
   "execution_count": 7,
   "id": "866ff3be",
   "metadata": {},
   "outputs": [],
   "source": [
    "mu_fact = (12/2)*np.log(71.06/65.62)"
   ]
  },
  {
   "cell_type": "code",
   "execution_count": 8,
   "id": "9d1b4972",
   "metadata": {},
   "outputs": [
    {
     "data": {
      "text/plain": [
       "0.47786437835955187"
      ]
     },
     "execution_count": 8,
     "metadata": {},
     "output_type": "execute_result"
    }
   ],
   "source": [
    "mu_fact\n"
   ]
  },
  {
   "cell_type": "markdown",
   "id": "8e507055",
   "metadata": {},
   "source": [
    "#### MosPrime"
   ]
  },
  {
   "cell_type": "code",
   "execution_count": 9,
   "id": "4f90fa19",
   "metadata": {
    "execution": {
     "iopub.execute_input": "2022-04-29T10:17:44.300841Z",
     "iopub.status.busy": "2022-04-29T10:17:44.300525Z",
     "iopub.status.idle": "2022-04-29T10:17:44.313291Z",
     "shell.execute_reply": "2022-04-29T10:17:44.312398Z",
     "shell.execute_reply.started": "2022-04-29T10:17:44.300809Z"
    },
    "scrolled": true,
    "tags": []
   },
   "outputs": [],
   "source": [
    "MosPrime = pd.DataFrame(pd.read_csv(\"MosPrime.csv\", sep=';'))\n",
    "MosPrime.Date = pd.to_datetime(MosPrime['Date'], format='%d.%m.%Y')\n",
    "MosPrime = MosPrime.set_index('Date')"
   ]
  },
  {
   "cell_type": "code",
   "execution_count": 10,
   "id": "91b4be6e",
   "metadata": {
    "execution": {
     "iopub.execute_input": "2022-04-29T10:17:44.314952Z",
     "iopub.status.busy": "2022-04-29T10:17:44.314588Z",
     "iopub.status.idle": "2022-04-29T10:17:44.319794Z",
     "shell.execute_reply": "2022-04-29T10:17:44.318864Z",
     "shell.execute_reply.started": "2022-04-29T10:17:44.314925Z"
    },
    "scrolled": false,
    "tags": []
   },
   "outputs": [],
   "source": [
    "x = np.array(MosPrime.day_number)\n",
    "y = np.array([1,7,14,30,61,91,182])\n",
    "xx, yy = np.meshgrid(x, y)"
   ]
  },
  {
   "cell_type": "code",
   "execution_count": 11,
   "id": "eca4f60d",
   "metadata": {
    "execution": {
     "iopub.execute_input": "2022-04-29T10:17:44.432282Z",
     "iopub.status.busy": "2022-04-29T10:17:44.432076Z",
     "iopub.status.idle": "2022-04-29T10:17:44.438345Z",
     "shell.execute_reply": "2022-04-29T10:17:44.437595Z",
     "shell.execute_reply.started": "2022-04-29T10:17:44.432259Z"
    },
    "scrolled": true,
    "tags": []
   },
   "outputs": [],
   "source": [
    "z=[]\n",
    "for i in range(1,len(MosPrime.columns)):\n",
    "    z.append(MosPrime.iloc[:,i].tolist())\n",
    "    \n",
    "z = np.array(z)"
   ]
  },
  {
   "cell_type": "code",
   "execution_count": 12,
   "id": "0081b55a",
   "metadata": {
    "execution": {
     "iopub.execute_input": "2022-04-29T10:17:44.631525Z",
     "iopub.status.busy": "2022-04-29T10:17:44.631177Z",
     "iopub.status.idle": "2022-04-29T10:17:44.635991Z",
     "shell.execute_reply": "2022-04-29T10:17:44.635200Z",
     "shell.execute_reply.started": "2022-04-29T10:17:44.631498Z"
    },
    "scrolled": true,
    "tags": []
   },
   "outputs": [],
   "source": [
    "from scipy import interpolate\n",
    "\n",
    "f = interpolate.interp2d(x, y, z, kind='cubic')"
   ]
  },
  {
   "cell_type": "code",
   "execution_count": 13,
   "id": "e25c4a78",
   "metadata": {
    "execution": {
     "iopub.execute_input": "2022-04-29T10:17:44.798728Z",
     "iopub.status.busy": "2022-04-29T10:17:44.798353Z",
     "iopub.status.idle": "2022-04-29T10:17:44.802858Z",
     "shell.execute_reply": "2022-04-29T10:17:44.802050Z",
     "shell.execute_reply.started": "2022-04-29T10:17:44.798701Z"
    },
    "scrolled": true,
    "tags": []
   },
   "outputs": [],
   "source": [
    "xnew = np.arange(62)\n",
    "ynew = np.arange(1, 62) # 2-месячный опцион\n",
    "znew = f(xnew, ynew)"
   ]
  },
  {
   "cell_type": "code",
   "execution_count": 14,
   "id": "d6bf7130",
   "metadata": {
    "execution": {
     "iopub.execute_input": "2022-04-29T10:17:45.299001Z",
     "iopub.status.busy": "2022-04-29T10:17:45.298719Z",
     "iopub.status.idle": "2022-04-29T10:17:45.303983Z",
     "shell.execute_reply": "2022-04-29T10:17:45.302979Z",
     "shell.execute_reply.started": "2022-04-29T10:17:45.298974Z"
    },
    "scrolled": true,
    "tags": []
   },
   "outputs": [],
   "source": [
    "rate_interpol = pd.DataFrame(znew).set_index(ynew).T"
   ]
  },
  {
   "cell_type": "code",
   "execution_count": 15,
   "id": "9dcdd7ab",
   "metadata": {
    "execution": {
     "iopub.execute_input": "2022-04-29T10:17:45.305522Z",
     "iopub.status.busy": "2022-04-29T10:17:45.305157Z",
     "iopub.status.idle": "2022-04-29T10:17:45.311464Z",
     "shell.execute_reply": "2022-04-29T10:17:45.310665Z",
     "shell.execute_reply.started": "2022-04-29T10:17:45.305496Z"
    },
    "scrolled": true,
    "tags": []
   },
   "outputs": [],
   "source": [
    "rate_interpol = rate_interpol.set_index(pd.date_range(start='2021-04-15', end='2021-06-15'))/100"
   ]
  },
  {
   "cell_type": "code",
   "execution_count": 16,
   "id": "b6a1da5d",
   "metadata": {
    "execution": {
     "iopub.execute_input": "2022-04-29T10:17:45.378220Z",
     "iopub.status.busy": "2022-04-29T10:17:45.377891Z",
     "iopub.status.idle": "2022-04-29T10:17:45.384617Z",
     "shell.execute_reply": "2022-04-29T10:17:45.383827Z",
     "shell.execute_reply.started": "2022-04-29T10:17:45.378195Z"
    },
    "scrolled": true,
    "tags": []
   },
   "outputs": [],
   "source": [
    "interp_df['r'] = np.diag(rate_interpol.values[:,::-1])"
   ]
  },
  {
   "cell_type": "markdown",
   "id": "4b5f8da3",
   "metadata": {},
   "source": [
    "#### vola"
   ]
  },
  {
   "cell_type": "code",
   "execution_count": 17,
   "id": "8f5c4e09",
   "metadata": {
    "execution": {
     "iopub.execute_input": "2022-04-29T10:17:45.802548Z",
     "iopub.status.busy": "2022-04-29T10:17:45.802313Z",
     "iopub.status.idle": "2022-04-29T10:17:45.809900Z",
     "shell.execute_reply": "2022-04-29T10:17:45.809014Z",
     "shell.execute_reply.started": "2022-04-29T10:17:45.802522Z"
    },
    "scrolled": true,
    "tags": []
   },
   "outputs": [],
   "source": [
    "df_vola = pd.read_csv(\"aeroflot.csv\", sep=';').set_index('Strike')/100"
   ]
  },
  {
   "cell_type": "code",
   "execution_count": 18,
   "id": "004cbb99",
   "metadata": {
    "execution": {
     "iopub.execute_input": "2022-04-29T10:17:45.983789Z",
     "iopub.status.busy": "2022-04-29T10:17:45.983583Z",
     "iopub.status.idle": "2022-04-29T10:17:45.987866Z",
     "shell.execute_reply": "2022-04-29T10:17:45.987086Z",
     "shell.execute_reply.started": "2022-04-29T10:17:45.983768Z"
    },
    "scrolled": true,
    "tags": []
   },
   "outputs": [],
   "source": [
    "x = np.array(df_vola.index)\n",
    "y = np.array([1,36,63,154,244,1344])\n",
    "xx, yy = np.meshgrid(x, y)"
   ]
  },
  {
   "cell_type": "code",
   "execution_count": 19,
   "id": "c51913cb",
   "metadata": {
    "execution": {
     "iopub.execute_input": "2022-04-29T10:17:46.300077Z",
     "iopub.status.busy": "2022-04-29T10:17:46.299758Z",
     "iopub.status.idle": "2022-04-29T10:17:46.304843Z",
     "shell.execute_reply": "2022-04-29T10:17:46.303999Z",
     "shell.execute_reply.started": "2022-04-29T10:17:46.300047Z"
    },
    "scrolled": true,
    "tags": []
   },
   "outputs": [],
   "source": [
    "z=[]\n",
    "for i in range(len(df_vola.columns)):\n",
    "    z.append(df_vola.iloc[:,i].tolist())\n",
    "    \n",
    "z = np.array(z)"
   ]
  },
  {
   "cell_type": "code",
   "execution_count": 20,
   "id": "86c00a57",
   "metadata": {
    "execution": {
     "iopub.execute_input": "2022-04-29T10:17:46.434357Z",
     "iopub.status.busy": "2022-04-29T10:17:46.434148Z",
     "iopub.status.idle": "2022-04-29T10:17:46.438885Z",
     "shell.execute_reply": "2022-04-29T10:17:46.438092Z",
     "shell.execute_reply.started": "2022-04-29T10:17:46.434334Z"
    },
    "scrolled": true,
    "tags": []
   },
   "outputs": [],
   "source": [
    "from scipy import interpolate\n",
    "\n",
    "f = interpolate.interp2d(x, y, z, kind='cubic')"
   ]
  },
  {
   "cell_type": "code",
   "execution_count": 21,
   "id": "50292a16",
   "metadata": {
    "execution": {
     "iopub.execute_input": "2022-04-29T10:17:46.561040Z",
     "iopub.status.busy": "2022-04-29T10:17:46.560702Z",
     "iopub.status.idle": "2022-04-29T10:17:46.565374Z",
     "shell.execute_reply": "2022-04-29T10:17:46.564639Z",
     "shell.execute_reply.started": "2022-04-29T10:17:46.561014Z"
    },
    "scrolled": true,
    "tags": []
   },
   "outputs": [],
   "source": [
    "xnew = np.arange(25, 176)\n",
    "ynew = np.arange(1, 62) # 2-месячный опцион\n",
    "znew = f(xnew, ynew)"
   ]
  },
  {
   "cell_type": "code",
   "execution_count": 22,
   "id": "03dca2b9",
   "metadata": {
    "execution": {
     "iopub.execute_input": "2022-04-29T10:17:46.747902Z",
     "iopub.status.busy": "2022-04-29T10:17:46.747694Z",
     "iopub.status.idle": "2022-04-29T10:17:46.751766Z",
     "shell.execute_reply": "2022-04-29T10:17:46.750971Z",
     "shell.execute_reply.started": "2022-04-29T10:17:46.747879Z"
    },
    "scrolled": true,
    "tags": []
   },
   "outputs": [],
   "source": [
    "df_vola_interp = pd.DataFrame(znew).set_index(ynew)\n",
    "df_vola_interp.columns = xnew"
   ]
  },
  {
   "cell_type": "code",
   "execution_count": 23,
   "id": "b32bf3d4",
   "metadata": {
    "execution": {
     "iopub.execute_input": "2022-04-29T10:17:46.952348Z",
     "iopub.status.busy": "2022-04-29T10:17:46.952010Z",
     "iopub.status.idle": "2022-04-29T10:17:46.955927Z",
     "shell.execute_reply": "2022-04-29T10:17:46.955071Z",
     "shell.execute_reply.started": "2022-04-29T10:17:46.952322Z"
    },
    "scrolled": true,
    "tags": []
   },
   "outputs": [],
   "source": [
    "vola_interpolated = df_vola_interp[52]"
   ]
  },
  {
   "cell_type": "code",
   "execution_count": 24,
   "id": "b84b60ec",
   "metadata": {
    "execution": {
     "iopub.execute_input": "2022-04-29T10:17:47.321176Z",
     "iopub.status.busy": "2022-04-29T10:17:47.320882Z",
     "iopub.status.idle": "2022-04-29T10:17:47.324960Z",
     "shell.execute_reply": "2022-04-29T10:17:47.324080Z",
     "shell.execute_reply.started": "2022-04-29T10:17:47.321150Z"
    },
    "scrolled": true,
    "tags": []
   },
   "outputs": [],
   "source": [
    "vola_var = np.var(vola_interpolated)"
   ]
  },
  {
   "cell_type": "code",
   "execution_count": 25,
   "id": "19c3579b",
   "metadata": {
    "execution": {
     "iopub.execute_input": "2022-04-29T10:17:47.369925Z",
     "iopub.status.busy": "2022-04-29T10:17:47.369483Z",
     "iopub.status.idle": "2022-04-29T10:17:47.374509Z",
     "shell.execute_reply": "2022-04-29T10:17:47.373692Z",
     "shell.execute_reply.started": "2022-04-29T10:17:47.369887Z"
    },
    "scrolled": true,
    "tags": []
   },
   "outputs": [],
   "source": [
    "interp_df['sigma'] = np.array(vola_interpolated[::-1])"
   ]
  },
  {
   "cell_type": "code",
   "execution_count": 26,
   "id": "d19c221b",
   "metadata": {
    "execution": {
     "iopub.execute_input": "2022-04-29T10:17:47.559054Z",
     "iopub.status.busy": "2022-04-29T10:17:47.558716Z",
     "iopub.status.idle": "2022-04-29T10:17:47.563444Z",
     "shell.execute_reply": "2022-04-29T10:17:47.562700Z",
     "shell.execute_reply.started": "2022-04-29T10:17:47.559028Z"
    },
    "scrolled": true,
    "tags": []
   },
   "outputs": [],
   "source": [
    "interp_df['sigma_true'] = interp_df['sigma'] + np.random.normal(0, 0.0025**(1/2))"
   ]
  },
  {
   "cell_type": "code",
   "execution_count": 27,
   "id": "76bacd8c",
   "metadata": {
    "execution": {
     "iopub.execute_input": "2022-04-29T10:17:47.752484Z",
     "iopub.status.busy": "2022-04-29T10:17:47.752115Z",
     "iopub.status.idle": "2022-04-29T10:17:47.757124Z",
     "shell.execute_reply": "2022-04-29T10:17:47.756203Z",
     "shell.execute_reply.started": "2022-04-29T10:17:47.752454Z"
    },
    "scrolled": true,
    "tags": []
   },
   "outputs": [],
   "source": [
    "interp_df['T'] = np.arange(1,62)[::-1]"
   ]
  },
  {
   "cell_type": "code",
   "execution_count": 28,
   "id": "bcc49322",
   "metadata": {
    "execution": {
     "iopub.execute_input": "2022-04-29T10:17:48.323848Z",
     "iopub.status.busy": "2022-04-29T10:17:48.323481Z",
     "iopub.status.idle": "2022-04-29T10:17:48.345667Z",
     "shell.execute_reply": "2022-04-29T10:17:48.344835Z",
     "shell.execute_reply.started": "2022-04-29T10:17:48.323821Z"
    },
    "scrolled": true,
    "tags": []
   },
   "outputs": [
    {
     "data": {
      "text/html": [
       "<div>\n",
       "<style scoped>\n",
       "    .dataframe tbody tr th:only-of-type {\n",
       "        vertical-align: middle;\n",
       "    }\n",
       "\n",
       "    .dataframe tbody tr th {\n",
       "        vertical-align: top;\n",
       "    }\n",
       "\n",
       "    .dataframe thead th {\n",
       "        text-align: right;\n",
       "    }\n",
       "</style>\n",
       "<table border=\"1\" class=\"dataframe\">\n",
       "  <thead>\n",
       "    <tr style=\"text-align: right;\">\n",
       "      <th>Strike</th>\n",
       "      <th>25</th>\n",
       "      <th>30</th>\n",
       "      <th>35</th>\n",
       "      <th>40</th>\n",
       "      <th>45</th>\n",
       "      <th>50</th>\n",
       "      <th>55</th>\n",
       "      <th>60</th>\n",
       "      <th>65</th>\n",
       "      <th>70</th>\n",
       "      <th>...</th>\n",
       "      <th>130</th>\n",
       "      <th>135</th>\n",
       "      <th>140</th>\n",
       "      <th>145</th>\n",
       "      <th>150</th>\n",
       "      <th>155</th>\n",
       "      <th>160</th>\n",
       "      <th>165</th>\n",
       "      <th>170</th>\n",
       "      <th>175</th>\n",
       "    </tr>\n",
       "  </thead>\n",
       "  <tbody>\n",
       "    <tr>\n",
       "      <th>Day_1</th>\n",
       "      <td>0.608509</td>\n",
       "      <td>0.608413</td>\n",
       "      <td>0.597737</td>\n",
       "      <td>0.583362</td>\n",
       "      <td>0.545496</td>\n",
       "      <td>0.511324</td>\n",
       "      <td>0.480779</td>\n",
       "      <td>0.453897</td>\n",
       "      <td>0.430673</td>\n",
       "      <td>0.411143</td>\n",
       "      <td>...</td>\n",
       "      <td>0.355049</td>\n",
       "      <td>0.357969</td>\n",
       "      <td>0.361493</td>\n",
       "      <td>0.365554</td>\n",
       "      <td>0.369982</td>\n",
       "      <td>0.374879</td>\n",
       "      <td>0.380180</td>\n",
       "      <td>0.385713</td>\n",
       "      <td>0.391582</td>\n",
       "      <td>0.397752</td>\n",
       "    </tr>\n",
       "    <tr>\n",
       "      <th>Day_36</th>\n",
       "      <td>0.615278</td>\n",
       "      <td>0.615067</td>\n",
       "      <td>0.591507</td>\n",
       "      <td>0.567746</td>\n",
       "      <td>0.535111</td>\n",
       "      <td>0.505440</td>\n",
       "      <td>0.478702</td>\n",
       "      <td>0.454858</td>\n",
       "      <td>0.434019</td>\n",
       "      <td>0.416143</td>\n",
       "      <td>...</td>\n",
       "      <td>0.347626</td>\n",
       "      <td>0.348277</td>\n",
       "      <td>0.349416</td>\n",
       "      <td>0.351015</td>\n",
       "      <td>0.352944</td>\n",
       "      <td>0.355302</td>\n",
       "      <td>0.357949</td>\n",
       "      <td>0.360867</td>\n",
       "      <td>0.364044</td>\n",
       "      <td>0.367521</td>\n",
       "    </tr>\n",
       "    <tr>\n",
       "      <th>Day_63</th>\n",
       "      <td>0.620500</td>\n",
       "      <td>0.620200</td>\n",
       "      <td>0.586700</td>\n",
       "      <td>0.555700</td>\n",
       "      <td>0.527100</td>\n",
       "      <td>0.500900</td>\n",
       "      <td>0.477100</td>\n",
       "      <td>0.455600</td>\n",
       "      <td>0.436600</td>\n",
       "      <td>0.420000</td>\n",
       "      <td>...</td>\n",
       "      <td>0.341900</td>\n",
       "      <td>0.340800</td>\n",
       "      <td>0.340100</td>\n",
       "      <td>0.339800</td>\n",
       "      <td>0.339800</td>\n",
       "      <td>0.340200</td>\n",
       "      <td>0.340800</td>\n",
       "      <td>0.341700</td>\n",
       "      <td>0.342800</td>\n",
       "      <td>0.344200</td>\n",
       "    </tr>\n",
       "    <tr>\n",
       "      <th>Day_154</th>\n",
       "      <td>0.603859</td>\n",
       "      <td>0.592297</td>\n",
       "      <td>0.564830</td>\n",
       "      <td>0.539260</td>\n",
       "      <td>0.515536</td>\n",
       "      <td>0.493660</td>\n",
       "      <td>0.473631</td>\n",
       "      <td>0.455399</td>\n",
       "      <td>0.439064</td>\n",
       "      <td>0.424575</td>\n",
       "      <td>...</td>\n",
       "      <td>0.344464</td>\n",
       "      <td>0.342057</td>\n",
       "      <td>0.339999</td>\n",
       "      <td>0.338241</td>\n",
       "      <td>0.336733</td>\n",
       "      <td>0.335575</td>\n",
       "      <td>0.334566</td>\n",
       "      <td>0.333857</td>\n",
       "      <td>0.333298</td>\n",
       "      <td>0.332938</td>\n",
       "    </tr>\n",
       "    <tr>\n",
       "      <th>Day_244</th>\n",
       "      <td>0.587400</td>\n",
       "      <td>0.564700</td>\n",
       "      <td>0.543200</td>\n",
       "      <td>0.523000</td>\n",
       "      <td>0.504100</td>\n",
       "      <td>0.486500</td>\n",
       "      <td>0.470200</td>\n",
       "      <td>0.455200</td>\n",
       "      <td>0.441500</td>\n",
       "      <td>0.429100</td>\n",
       "      <td>...</td>\n",
       "      <td>0.347000</td>\n",
       "      <td>0.343300</td>\n",
       "      <td>0.339900</td>\n",
       "      <td>0.336700</td>\n",
       "      <td>0.333700</td>\n",
       "      <td>0.331000</td>\n",
       "      <td>0.328400</td>\n",
       "      <td>0.326100</td>\n",
       "      <td>0.323900</td>\n",
       "      <td>0.321800</td>\n",
       "    </tr>\n",
       "    <tr>\n",
       "      <th>Day_1344</th>\n",
       "      <td>0.587400</td>\n",
       "      <td>0.564700</td>\n",
       "      <td>0.543200</td>\n",
       "      <td>0.523000</td>\n",
       "      <td>0.504100</td>\n",
       "      <td>0.486500</td>\n",
       "      <td>0.470200</td>\n",
       "      <td>0.455200</td>\n",
       "      <td>0.441500</td>\n",
       "      <td>0.429100</td>\n",
       "      <td>...</td>\n",
       "      <td>0.347000</td>\n",
       "      <td>0.343300</td>\n",
       "      <td>0.339900</td>\n",
       "      <td>0.336700</td>\n",
       "      <td>0.333700</td>\n",
       "      <td>0.331000</td>\n",
       "      <td>0.328400</td>\n",
       "      <td>0.326100</td>\n",
       "      <td>0.323900</td>\n",
       "      <td>0.321800</td>\n",
       "    </tr>\n",
       "  </tbody>\n",
       "</table>\n",
       "<p>6 rows × 31 columns</p>\n",
       "</div>"
      ],
      "text/plain": [
       "Strike         25        30        35        40        45        50   \\\n",
       "Day_1     0.608509  0.608413  0.597737  0.583362  0.545496  0.511324   \n",
       "Day_36    0.615278  0.615067  0.591507  0.567746  0.535111  0.505440   \n",
       "Day_63    0.620500  0.620200  0.586700  0.555700  0.527100  0.500900   \n",
       "Day_154   0.603859  0.592297  0.564830  0.539260  0.515536  0.493660   \n",
       "Day_244   0.587400  0.564700  0.543200  0.523000  0.504100  0.486500   \n",
       "Day_1344  0.587400  0.564700  0.543200  0.523000  0.504100  0.486500   \n",
       "\n",
       "Strike         55        60        65        70   ...       130       135  \\\n",
       "Day_1     0.480779  0.453897  0.430673  0.411143  ...  0.355049  0.357969   \n",
       "Day_36    0.478702  0.454858  0.434019  0.416143  ...  0.347626  0.348277   \n",
       "Day_63    0.477100  0.455600  0.436600  0.420000  ...  0.341900  0.340800   \n",
       "Day_154   0.473631  0.455399  0.439064  0.424575  ...  0.344464  0.342057   \n",
       "Day_244   0.470200  0.455200  0.441500  0.429100  ...  0.347000  0.343300   \n",
       "Day_1344  0.470200  0.455200  0.441500  0.429100  ...  0.347000  0.343300   \n",
       "\n",
       "Strike         140       145       150       155       160       165  \\\n",
       "Day_1     0.361493  0.365554  0.369982  0.374879  0.380180  0.385713   \n",
       "Day_36    0.349416  0.351015  0.352944  0.355302  0.357949  0.360867   \n",
       "Day_63    0.340100  0.339800  0.339800  0.340200  0.340800  0.341700   \n",
       "Day_154   0.339999  0.338241  0.336733  0.335575  0.334566  0.333857   \n",
       "Day_244   0.339900  0.336700  0.333700  0.331000  0.328400  0.326100   \n",
       "Day_1344  0.339900  0.336700  0.333700  0.331000  0.328400  0.326100   \n",
       "\n",
       "Strike         170       175  \n",
       "Day_1     0.391582  0.397752  \n",
       "Day_36    0.364044  0.367521  \n",
       "Day_63    0.342800  0.344200  \n",
       "Day_154   0.333298  0.332938  \n",
       "Day_244   0.323900  0.321800  \n",
       "Day_1344  0.323900  0.321800  \n",
       "\n",
       "[6 rows x 31 columns]"
      ]
     },
     "execution_count": 28,
     "metadata": {},
     "output_type": "execute_result"
    }
   ],
   "source": [
    "df_vola.T"
   ]
  },
  {
   "cell_type": "code",
   "execution_count": 29,
   "id": "42aa2125",
   "metadata": {
    "execution": {
     "iopub.execute_input": "2022-04-29T10:17:48.398319Z",
     "iopub.status.busy": "2022-04-29T10:17:48.398130Z",
     "iopub.status.idle": "2022-04-29T10:17:48.401082Z",
     "shell.execute_reply": "2022-04-29T10:17:48.400220Z",
     "shell.execute_reply.started": "2022-04-29T10:17:48.398298Z"
    },
    "scrolled": true,
    "tags": []
   },
   "outputs": [],
   "source": [
    "# variances_new = {}\n",
    "# for i in range(len(df_vola.T.columns)):\n",
    "#     variances_new[df_vola.T.columns[i]] = np.var(df_vola.T.iloc[:,i]/100)"
   ]
  },
  {
   "cell_type": "code",
   "execution_count": 30,
   "id": "bc2bd605",
   "metadata": {
    "execution": {
     "iopub.execute_input": "2022-04-29T10:17:48.600618Z",
     "iopub.status.busy": "2022-04-29T10:17:48.600396Z",
     "iopub.status.idle": "2022-04-29T10:17:48.603997Z",
     "shell.execute_reply": "2022-04-29T10:17:48.603128Z",
     "shell.execute_reply.started": "2022-04-29T10:17:48.600595Z"
    },
    "scrolled": true,
    "tags": []
   },
   "outputs": [],
   "source": [
    "# variances_new"
   ]
  },
  {
   "cell_type": "code",
   "execution_count": 31,
   "id": "f68dcd31",
   "metadata": {
    "execution": {
     "iopub.execute_input": "2022-04-29T10:17:48.858273Z",
     "iopub.status.busy": "2022-04-29T10:17:48.858073Z",
     "iopub.status.idle": "2022-04-29T10:17:48.861309Z",
     "shell.execute_reply": "2022-04-29T10:17:48.860400Z",
     "shell.execute_reply.started": "2022-04-29T10:17:48.858251Z"
    },
    "scrolled": true,
    "tags": []
   },
   "outputs": [],
   "source": [
    "# # Считаем дисперсии, чтобы потом генерировать реальную поверхность волатильности для расчета справедливой цены опциона\n",
    "\n",
    "# variances = {}\n",
    "# for i in range(len(df_vola_interp.columns)):\n",
    "#     variances[df_vola_interp.columns[i]] = np.var(df_vola_interp.iloc[:,i]/100)"
   ]
  },
  {
   "cell_type": "code",
   "execution_count": 32,
   "id": "6c71fee5",
   "metadata": {
    "execution": {
     "iopub.execute_input": "2022-04-29T10:17:49.294602Z",
     "iopub.status.busy": "2022-04-29T10:17:49.293929Z",
     "iopub.status.idle": "2022-04-29T10:17:49.299245Z",
     "shell.execute_reply": "2022-04-29T10:17:49.298066Z",
     "shell.execute_reply.started": "2022-04-29T10:17:49.294541Z"
    },
    "scrolled": true,
    "tags": []
   },
   "outputs": [],
   "source": [
    "# variances"
   ]
  },
  {
   "cell_type": "code",
   "execution_count": 33,
   "id": "f800c9fe",
   "metadata": {
    "scrolled": true
   },
   "outputs": [
    {
     "data": {
      "text/html": [
       "<div>\n",
       "<style scoped>\n",
       "    .dataframe tbody tr th:only-of-type {\n",
       "        vertical-align: middle;\n",
       "    }\n",
       "\n",
       "    .dataframe tbody tr th {\n",
       "        vertical-align: top;\n",
       "    }\n",
       "\n",
       "    .dataframe thead th {\n",
       "        text-align: right;\n",
       "    }\n",
       "</style>\n",
       "<table border=\"1\" class=\"dataframe\">\n",
       "  <thead>\n",
       "    <tr style=\"text-align: right;\">\n",
       "      <th></th>\n",
       "      <th>S0</th>\n",
       "      <th>r</th>\n",
       "      <th>sigma</th>\n",
       "      <th>sigma_true</th>\n",
       "      <th>T</th>\n",
       "    </tr>\n",
       "    <tr>\n",
       "      <th>Date</th>\n",
       "      <th></th>\n",
       "      <th></th>\n",
       "      <th></th>\n",
       "      <th></th>\n",
       "      <th></th>\n",
       "    </tr>\n",
       "  </thead>\n",
       "  <tbody>\n",
       "    <tr>\n",
       "      <th>2021-04-15</th>\n",
       "      <td>65.419998</td>\n",
       "      <td>0.051400</td>\n",
       "      <td>0.491330</td>\n",
       "      <td>0.513597</td>\n",
       "      <td>61</td>\n",
       "    </tr>\n",
       "    <tr>\n",
       "      <th>2021-04-16</th>\n",
       "      <td>66.019997</td>\n",
       "      <td>0.051268</td>\n",
       "      <td>0.491443</td>\n",
       "      <td>0.513710</td>\n",
       "      <td>60</td>\n",
       "    </tr>\n",
       "    <tr>\n",
       "      <th>2021-04-17</th>\n",
       "      <td>65.846665</td>\n",
       "      <td>0.051362</td>\n",
       "      <td>0.491557</td>\n",
       "      <td>0.513824</td>\n",
       "      <td>59</td>\n",
       "    </tr>\n",
       "    <tr>\n",
       "      <th>2021-04-18</th>\n",
       "      <td>65.673332</td>\n",
       "      <td>0.051476</td>\n",
       "      <td>0.491672</td>\n",
       "      <td>0.513939</td>\n",
       "      <td>58</td>\n",
       "    </tr>\n",
       "    <tr>\n",
       "      <th>2021-04-19</th>\n",
       "      <td>65.500000</td>\n",
       "      <td>0.051438</td>\n",
       "      <td>0.491789</td>\n",
       "      <td>0.514056</td>\n",
       "      <td>57</td>\n",
       "    </tr>\n",
       "    <tr>\n",
       "      <th>...</th>\n",
       "      <td>...</td>\n",
       "      <td>...</td>\n",
       "      <td>...</td>\n",
       "      <td>...</td>\n",
       "      <td>...</td>\n",
       "    </tr>\n",
       "    <tr>\n",
       "      <th>2021-06-10</th>\n",
       "      <td>73.220001</td>\n",
       "      <td>0.052534</td>\n",
       "      <td>0.498398</td>\n",
       "      <td>0.520665</td>\n",
       "      <td>5</td>\n",
       "    </tr>\n",
       "    <tr>\n",
       "      <th>2021-06-11</th>\n",
       "      <td>73.760002</td>\n",
       "      <td>0.054070</td>\n",
       "      <td>0.498508</td>\n",
       "      <td>0.520775</td>\n",
       "      <td>4</td>\n",
       "    </tr>\n",
       "    <tr>\n",
       "      <th>2021-06-12</th>\n",
       "      <td>73.253334</td>\n",
       "      <td>0.056273</td>\n",
       "      <td>0.498616</td>\n",
       "      <td>0.520883</td>\n",
       "      <td>3</td>\n",
       "    </tr>\n",
       "    <tr>\n",
       "      <th>2021-06-13</th>\n",
       "      <td>72.746666</td>\n",
       "      <td>0.058152</td>\n",
       "      <td>0.498723</td>\n",
       "      <td>0.520990</td>\n",
       "      <td>2</td>\n",
       "    </tr>\n",
       "    <tr>\n",
       "      <th>2021-06-14</th>\n",
       "      <td>72.239998</td>\n",
       "      <td>0.058443</td>\n",
       "      <td>0.498827</td>\n",
       "      <td>0.521094</td>\n",
       "      <td>1</td>\n",
       "    </tr>\n",
       "  </tbody>\n",
       "</table>\n",
       "<p>61 rows × 5 columns</p>\n",
       "</div>"
      ],
      "text/plain": [
       "                   S0         r     sigma  sigma_true   T\n",
       "Date                                                     \n",
       "2021-04-15  65.419998  0.051400  0.491330    0.513597  61\n",
       "2021-04-16  66.019997  0.051268  0.491443    0.513710  60\n",
       "2021-04-17  65.846665  0.051362  0.491557    0.513824  59\n",
       "2021-04-18  65.673332  0.051476  0.491672    0.513939  58\n",
       "2021-04-19  65.500000  0.051438  0.491789    0.514056  57\n",
       "...               ...       ...       ...         ...  ..\n",
       "2021-06-10  73.220001  0.052534  0.498398    0.520665   5\n",
       "2021-06-11  73.760002  0.054070  0.498508    0.520775   4\n",
       "2021-06-12  73.253334  0.056273  0.498616    0.520883   3\n",
       "2021-06-13  72.746666  0.058152  0.498723    0.520990   2\n",
       "2021-06-14  72.239998  0.058443  0.498827    0.521094   1\n",
       "\n",
       "[61 rows x 5 columns]"
      ]
     },
     "execution_count": 33,
     "metadata": {},
     "output_type": "execute_result"
    }
   ],
   "source": [
    "interp_df"
   ]
  },
  {
   "cell_type": "code",
   "execution_count": null,
   "id": "45d42c54",
   "metadata": {
    "scrolled": true
   },
   "outputs": [],
   "source": []
  },
  {
   "cell_type": "code",
   "execution_count": 34,
   "id": "cd11d034",
   "metadata": {
    "execution": {
     "iopub.execute_input": "2022-04-29T10:17:50.296001Z",
     "iopub.status.busy": "2022-04-29T10:17:50.295672Z",
     "iopub.status.idle": "2022-04-29T10:17:50.304188Z",
     "shell.execute_reply": "2022-04-29T10:17:50.303168Z",
     "shell.execute_reply.started": "2022-04-29T10:17:50.295971Z"
    },
    "scrolled": true,
    "tags": []
   },
   "outputs": [],
   "source": [
    "# The Black-Scholes prices\n",
    "\n",
    "def bsm_pv(isCall, S0, K, r, sigma, T, t=0):\n",
    "    d1 = (np.log(S0/K) + (r + 1/2 * sigma**2) * (T-t)) / sigma / np.sqrt(T-t)\n",
    "    d2 = (np.log(S0/K) + (r - 1/2 * sigma**2) * (T-t)) / sigma / np.sqrt(T-t)\n",
    "    \n",
    "    if isCall:\n",
    "        price = S0 * norm.cdf(d1) - K * np.exp(-r * (T-t)) * norm.cdf(d2)\n",
    "    else:\n",
    "        price = K * np.exp(-r * (T-t)) * norm.cdf(-d2) - S0 * norm.cdf(-d1)\n",
    "\n",
    "    return price\n",
    "\n",
    "\n",
    "def bsm_delta(isCall, S0, K, r, sigma, T, t=0):\n",
    "    d1 = (np.log(S0/K) + (r + 1/2 * sigma**2) * (T-t)) / sigma / np.sqrt(T-t)\n",
    "    \n",
    "    if isCall:\n",
    "        delta = norm.cdf(d1)\n",
    "    else:\n",
    "        delta = -norm.cdf(-d1)\n",
    "\n",
    "    return delta\n"
   ]
  },
  {
   "cell_type": "code",
   "execution_count": 35,
   "id": "7ba821f5",
   "metadata": {
    "execution": {
     "iopub.execute_input": "2022-04-29T10:17:50.567597Z",
     "iopub.status.busy": "2022-04-29T10:17:50.567343Z",
     "iopub.status.idle": "2022-04-29T10:17:50.572141Z",
     "shell.execute_reply": "2022-04-29T10:17:50.571173Z",
     "shell.execute_reply.started": "2022-04-29T10:17:50.567569Z"
    },
    "scrolled": true,
    "tags": []
   },
   "outputs": [],
   "source": [
    "def terminal_payoff(ST, K, isCall = False):\n",
    "    if isCall == False:\n",
    "        payoff = max(K-ST, 0)\n",
    "    if isCall == True:\n",
    "        payoff = max(ST-K, 0)    \n",
    "    return payoff"
   ]
  },
  {
   "cell_type": "code",
   "execution_count": 36,
   "id": "aa9fc405",
   "metadata": {
    "execution": {
     "iopub.execute_input": "2022-04-29T10:17:50.841728Z",
     "iopub.status.busy": "2022-04-29T10:17:50.841535Z",
     "iopub.status.idle": "2022-04-29T10:17:50.849830Z",
     "shell.execute_reply": "2022-04-29T10:17:50.848955Z",
     "shell.execute_reply.started": "2022-04-29T10:17:50.841703Z"
    },
    "scrolled": true,
    "tags": []
   },
   "outputs": [],
   "source": [
    "def function_A_vec(t, delta_S_hat, data_mat, reg_param):\n",
    "    \"\"\"\n",
    "    function_A_vec - compute the matrix A_{nm} from Eq. (52) (with a regularization!)\n",
    "    Eq. (52) in QLBS Q-Learner in the Black-Scholes-Merton article\n",
    "    \n",
    "    Arguments:\n",
    "    t - time index, a scalar, an index into time axis of data_mat\n",
    "    delta_S_hat - pandas.DataFrame of dimension N_MC x T\n",
    "    data_mat - pandas.DataFrame of dimension T x N_MC x num_basis\n",
    "    reg_param - a scalar, regularization parameter\n",
    "    \n",
    "    Return:\n",
    "    - np.array, i.e. matrix A_{nm} of dimension num_basis x num_basis\n",
    "    \"\"\"\n",
    "\n",
    "    X_mat = data_mat[t, :, :]\n",
    "    num_basis_funcs = X_mat.shape[1]\n",
    "    this_dS = delta_S_hat.loc[:, t]\n",
    "    hat_dS2 = np.array((this_dS ** 2)).reshape(-1, 1)\n",
    "    A_mat = np.dot(X_mat.T, X_mat * hat_dS2) + reg_param * np.eye(num_basis_funcs)\n",
    "\n",
    "    return A_mat\n",
    "\n",
    "\n",
    "def function_B_vec(t, Pi_hat, delta_S_hat, S, data_mat, gamma, risk_lambda):\n",
    "    \"\"\"\n",
    "    function_B_vec - compute vector B_{n} from Eq. (52) QLBS Q-Learner in the Black-Scholes-Merton article\n",
    "    \n",
    "    Arguments:\n",
    "    t - time index, a scalar, an index into time axis of delta_S_hat\n",
    "    Pi_hat - pandas.DataFrame of dimension N_MC x T of portfolio values \n",
    "    delta_S_hat - pandas.DataFrame of dimension N_MC x T\n",
    "    S - pandas.DataFrame of simulated stock prices of dimension N_MC x T\n",
    "    data_mat - pandas.DataFrame of dimension T x N_MC x num_basis\n",
    "    gamma - one time-step discount factor $exp(-r \\delta t)$\n",
    "    risk_lambda - risk aversion coefficient, a small positive number\n",
    "    \n",
    "    Return:\n",
    "    B_vec - np.array() of dimension num_basis x 1\n",
    "    \"\"\"\n",
    "    # coef = 1.0/(2 * gamma * risk_lambda)\n",
    "    # override it by zero to have pure risk hedge\n",
    "    coef = 0. # keep it\n",
    "\n",
    "    tmp = Pi_hat.loc[:,t+1] * delta_S_hat.loc[:, t]\n",
    "    X_mat = data_mat[t, :, :]  # matrix of dimension N_MC x num_basis\n",
    "    B_vec = np.dot(X_mat.T, tmp)\n",
    "  \n",
    "    return B_vec\n",
    "\n",
    "\n",
    "\n",
    "def function_S_vec(t, S_t_mat, reg_param):\n",
    "    \"\"\"\n",
    "    function_S_vec - calculate S_{nm} matrix from Eq. (75) (with a regularization!)\n",
    "    Eq. (75) in QLBS Q-Learner in the Black-Scholes-Merton article\n",
    "    \n",
    "    num_Qbasis = 3 x num_basis, 3 because of the basis expansion (1, a_t, 0.5 a_t^2)\n",
    "    \n",
    "    Arguments:\n",
    "    t - time index, a scalar, an index into time axis of S_t_mat \n",
    "    S_t_mat - pandas.DataFrame of dimension num_Qbasis x num_Qbasis x T\n",
    "    reg_param - regularization parameter, a scalar\n",
    "    Return:\n",
    "    S_mat_reg - num_Qbasis x num_Qbasis\n",
    "    \"\"\"\n",
    "    num_Qbasis = S_t_mat.shape[0]\n",
    "    S_mat_reg = S_t_mat[:,:,t] + reg_param * np.eye(num_Qbasis)\n",
    "\n",
    "    return S_mat_reg\n",
    "   \n",
    "def function_M_vec(t, Q_star, R, Psi_mat_t, gamma):\n",
    "    \"\"\"\n",
    "    function_S_vec - calculate M_{nm} vector from Eq. (75) (with a regularization!)\n",
    "    Eq. (75) in QLBS Q-Learner in the Black-Scholes-Merton article\n",
    "    \n",
    "    num_Qbasis = 3 x num_basis, 3 because of the basis expansion (1, a_t, 0.5 a_t^2)\n",
    "    \n",
    "    Arguments:\n",
    "    t- time index, a scalar, an index into time axis of S_t_mat \n",
    "    Q_star - pandas.DataFrame of Q-function values of dimension N_MC x T\n",
    "    R - pandas.DataFrame of rewards of dimension N_MC x T\n",
    "    Psi_mat_t - pandas.DataFrame of dimension num_Qbasis x N_MC\n",
    "    gamma - one time-step discount factor $exp(-r \\delta t)$\n",
    "    Return:\n",
    "    M_t - np.array of dimension num_Qbasis x 1\n",
    "    \"\"\"\n",
    "\n",
    "    M_t = np.dot(Psi_mat_t, R.loc[:,t] + gamma * Q_star.loc[:, t+1])\n",
    "    \n",
    "    return M_t\n",
    "\n"
   ]
  },
  {
   "cell_type": "code",
   "execution_count": 37,
   "id": "ba72c037",
   "metadata": {
    "execution": {
     "iopub.execute_input": "2022-04-29T10:17:51.409177Z",
     "iopub.status.busy": "2022-04-29T10:17:51.408900Z",
     "iopub.status.idle": "2022-04-29T10:17:51.448622Z",
     "shell.execute_reply": "2022-04-29T10:17:51.447640Z",
     "shell.execute_reply.started": "2022-04-29T10:17:51.409148Z"
    },
    "scrolled": true,
    "tags": []
   },
   "outputs": [],
   "source": [
    "class QLBS:\n",
    "    \"\"\"\n",
    "    Class implementing QLBS model\n",
    "    \n",
    "    \"\"\"\n",
    "\n",
    "    def __init__(self,\n",
    "                 S0,\n",
    "                 K,\n",
    "                 sigma,\n",
    "                 r,\n",
    "                 mu,\n",
    "                 M, # maturity\n",
    "                 T,   # number of time steps\n",
    "                 isCall = False,\n",
    "                 N_MC = 10000,\n",
    "                 risk_lambda = 0.001,\n",
    "                 p=4, \n",
    "                 ncolloc=12,\n",
    "                 reg_param = 1e-3,\n",
    "                 eta = 0.5):\n",
    "        \"\"\"\n",
    "        :param S0: initial price of the underlying\n",
    "        :param K: option strike\n",
    "        :param sigma: volatility\n",
    "        :param M: time to maturity, in years\n",
    "        :param r: risk-free rate,\n",
    "        :param mu: real drift, asset drift\n",
    "        :param T: number of time steps\n",
    "        :param N_MC: number of Monte Carlo paths\n",
    "        \n",
    "        \"\"\"\n",
    "        \n",
    "        self.isCall = isCall\n",
    "        self.S0 = S0\n",
    "        self.K = K\n",
    "        self.sigma = sigma\n",
    "        self.r = r\n",
    "        self.mu = mu\n",
    "        self.T = T\n",
    "        self.M = M\n",
    "        self.N_MC = N_MC\n",
    "        \n",
    "        self.risk_lambda = risk_lambda\n",
    "        \n",
    "        self.p = p\n",
    "        self.ncolloc = ncolloc\n",
    "        \n",
    "        self.reg_param = reg_param\n",
    "        self.eta = eta\n",
    "        \n",
    "        self.delta_t = self.M / self.T                # time interval\n",
    "        self.gamma = np.exp(- self.r * self.delta_t)  # discount factor\n",
    "        \n",
    "        \n",
    "    def make_S_and_X(self, seed=123):     \n",
    "    \n",
    "        self.S = pd.DataFrame([], index=range(1, self.N_MC+1), columns=range(self.T+1))\n",
    "        self.S.loc[:,0] = self.S0\n",
    "        \n",
    "        np.random.seed(seed) \n",
    "        RN = pd.DataFrame(np.random.randn(self.N_MC,self.T), index=range(1, self.N_MC+1), columns=range(1, self.T+1))\n",
    "\n",
    "        for t in range(1, self.T+1):\n",
    "            self.S.loc[:,t] = self.S.loc[:,t-1] * np.exp((self.mu - 1/2 * self.sigma**2) * self.delta_t + self.sigma * np.sqrt(self.delta_t) * RN.loc[:,t])\n",
    "\n",
    "        self.delta_S = self.S.loc[:,1:self.T].values - np.exp(self.r * self.delta_t) * self.S.loc[:,0:self.T-1]\n",
    "        self.delta_S_hat = self.delta_S.apply(lambda x: x - np.mean(x), axis=0)\n",
    "\n",
    "        self.X = - (self.mu - 1/2 * self.sigma**2) * np.arange(self.T+1) * self.delta_t + np.log(self.S) \n",
    "\n",
    "        global S, X\n",
    "        S = self.S\n",
    "        X = self.X\n",
    "\n",
    "    def splines(self):\n",
    "        \n",
    "        X_min = np.min(np.min(self.X))\n",
    "        X_max = np.max(np.max(self.X))\n",
    "\n",
    "        tau = np.linspace(X_min,X_max,self.ncolloc)  # These are the sites to which we would like to interpolate\n",
    "\n",
    "        # k is a knot vector that adds endpoints repeats as appropriate for a spline of order p\n",
    "        # To get meaninful results, one should have ncolloc >= p+1\n",
    "        k = splinelab.aptknt(tau, self.p) \n",
    "\n",
    "        # Spline basis of order p on knots k\n",
    "        basis = bspline.Bspline(k, self.p)  \n",
    "\n",
    "        self.data_mat_t = np.zeros((self.T + 1, self.N_MC, self.ncolloc))\n",
    "\n",
    "        # fill it, expand function in finite dimensional space\n",
    "        # in neural network the basis is the neural network itself\n",
    "\n",
    "        for i in np.arange(self.T + 1):\n",
    "            x = self.X.values[:,i]\n",
    "            self.data_mat_t[i,:,:] = np.array([ basis(el) for el in x ])\n",
    "\n",
    "    \n",
    "    def make_a(self):\n",
    "        Pi = pd.DataFrame([], index=range(1, self.N_MC+1), columns=range(self.T+1))\n",
    "        Pi.iloc[:,-1] = self.S.iloc[:,-1].apply(lambda x: terminal_payoff(x, self.K, self.isCall))\n",
    "\n",
    "        Pi_hat = pd.DataFrame([], index=range(1, self.N_MC+1), columns=range(self.T+1))\n",
    "        Pi_hat.iloc[:,-1] = Pi.iloc[:,-1] - np.mean(Pi.iloc[:,-1])\n",
    "\n",
    "        # optimal hedge\n",
    "        self.a = pd.DataFrame([], index=range(1, self.N_MC+1), columns=range(self.T+1))\n",
    "        self.a.iloc[:,-1] = 0\n",
    "\n",
    "        for t in range(self.T-1, -1, -1):\n",
    "            A_mat = function_A_vec(t, self.delta_S_hat, self.data_mat_t, self.reg_param)\n",
    "            B_vec = function_B_vec(t, Pi_hat, self.delta_S_hat, self.S, self.data_mat_t, self.gamma,self.risk_lambda)\n",
    "            phi = np.dot(np.linalg.inv(A_mat), B_vec)\n",
    "\n",
    "            self.a.loc[:,t] = np.dot(self.data_mat_t[t,:,:],phi)\n",
    "            self.a.loc[:, t] *= np.random.uniform(1 - self.eta, 1 + self.eta, size=self.a.shape[0])\n",
    "\n",
    "            Pi.loc[:,t] = self.gamma * (Pi.loc[:,t+1] - self.a.loc[:,t] * self.delta_S.loc[:,t])\n",
    "            Pi_hat.loc[:,t] = Pi.loc[:,t] - np.mean(Pi.loc[:,t])\n",
    "                    \n",
    "            \n",
    "    def make_Psi_mat(self):\n",
    "    \n",
    "        # make matrix A_t of shape (3 x num_MC x num_steps)\n",
    "        a_1_1 = self.a.values.reshape((1, self.N_MC, self.T+1))\n",
    "        a_1_2 = 0.5 * a_1_1**2\n",
    "        ones_3d = np.ones((1, self.N_MC, self.T+1))\n",
    "        A_stack = np.vstack((ones_3d, a_1_1, a_1_2))\n",
    "\n",
    "        data_mat_swap_idx = np.swapaxes(self.data_mat_t,0,2)\n",
    "\n",
    "        # expand dimensions of matrices to multiply element-wise\n",
    "        A_2 = np.expand_dims(A_stack, axis=1) # becomes (3,1,10000,25)\n",
    "        data_mat_swap_idx = np.expand_dims(data_mat_swap_idx, axis=0)  # becomes (1,12,10000,25)\n",
    "\n",
    "        self.Psi_mat = np.multiply(A_2, data_mat_swap_idx) # this is a matrix of size 3 x num_basis x num_MC x num_steps\n",
    "\n",
    "        # now concatenate columns along the first dimension\n",
    "        # Psi_mat = Psi_mat.reshape(-1, a.shape[0], a.shape[1], order='F')\n",
    "        self.Psi_mat = self.Psi_mat.reshape(-1, self.N_MC, self.T+1, order='F')\n",
    "\n",
    "\n",
    "    def make_S_t_mat(self):\n",
    "\n",
    "        Psi_1_aux = np.expand_dims(self.Psi_mat, axis=1)\n",
    "        Psi_2_aux = np.expand_dims(self.Psi_mat, axis=0)\n",
    "\n",
    "        self.S_t_mat = np.sum(np.multiply(Psi_1_aux, Psi_2_aux), axis=2) \n",
    "        \n",
    "        \n",
    "        \n",
    "    def roll_backward(self):\n",
    "        \"\"\"\n",
    "        Roll the price and optimal hedge back in time starting from maturity\n",
    "        \"\"\"\n",
    "        \n",
    "        self.make_S_and_X()\n",
    "        self.splines()\n",
    "        self.make_a()\n",
    "        self.make_Psi_mat()\n",
    "        self.make_S_t_mat()\n",
    "        \n",
    "        global Pi, Pi_hat, R, Q_star, Q_RL, a_star\n",
    "        \n",
    "        # portfolio value\n",
    "        Pi = pd.DataFrame([], index=range(1, self.N_MC+1), columns=range(self.T+1))\n",
    "        Pi.iloc[:,-1] = self.S.iloc[:,-1].apply(lambda x: terminal_payoff(x, self.K, self.isCall))\n",
    "\n",
    "        Pi_hat = pd.DataFrame([], index=range(1, self.N_MC+1), columns=range(self.T+1))\n",
    "        Pi_hat.iloc[:,-1] = Pi.iloc[:,-1] - np.mean(Pi.iloc[:,-1])\n",
    "\n",
    "        # reward function\n",
    "        R = pd.DataFrame([], index=range(1, self.N_MC+1), columns=range(self.T+1))\n",
    "        R.iloc[:,-1] = - self.risk_lambda * np.var(Pi.iloc[:,-1])\n",
    "\n",
    "        # implied Q-function by input data (using the first form in Eq.(68))\n",
    "        \"\"\"\n",
    "        Q-function Q_t*(X_t, a_t)\n",
    "        \"\"\"\n",
    "        Q_RL = pd.DataFrame([], index=range(1, self.N_MC+1), columns=range(self.T+1))\n",
    "        Q_RL.iloc[:,-1] = - Pi.iloc[:,-1] - self.risk_lambda * np.var(Pi.iloc[:,-1])\n",
    "\n",
    "        # optimal action\n",
    "        # a_opt - to speed up operations\n",
    "        a_opt = np.zeros((self.N_MC,self.T+1))\n",
    "        a_star = pd.DataFrame([], index=range(1, self.N_MC+1), columns=range(self.T+1))\n",
    "        a_star.iloc[:,-1] = 0\n",
    "\n",
    "        # optimal Q-function with OPTIMAL action\n",
    "        \"\"\"\n",
    "        Q-function Q_t*(X_t, a_t*)\n",
    "        \"\"\"\n",
    "        Q_star = pd.DataFrame([], index=range(1, self.N_MC+1), columns=range(self.T+1))\n",
    "        Q_star.iloc[:,-1] = Q_RL.iloc[:,-1]\n",
    "        \n",
    "        # max_Q_star - to speed up operations\n",
    "        max_Q_star = np.zeros((self.N_MC,self.T+1))\n",
    "        max_Q_star[:,-1] = Q_RL.iloc[:,-1].values\n",
    "\n",
    "        num_basis = self.data_mat_t.shape[2]\n",
    "\n",
    "        \n",
    "        # The backward loop\n",
    "        for t in range(self.T-1, -1, -1): \n",
    "\n",
    "            # Compute portfolio values corresponding to observed actions    \n",
    "            Pi.loc[:,t] = self.gamma * (Pi.loc[:,t+1] - self.a.loc[:,t] * self.delta_S.loc[:,t])\n",
    "            Pi_hat.loc[:,t] = Pi.loc[:,t] - np.mean(Pi.loc[:,t])\n",
    "\n",
    "            # Compute rewards corresponding to observed actions\n",
    "            R.loc[:,t] = self.gamma * self.a.loc[:,t] * self.delta_S.loc[:,t] - self.risk_lambda * np.var(Pi.loc[:,t])\n",
    "\n",
    "            # calculate vector W_t\n",
    "            S_mat_reg = function_S_vec(t, self.S_t_mat, self.reg_param) \n",
    "            M_t = function_M_vec(t, Q_star, R, self.Psi_mat[:,:,t], self.gamma)\n",
    "            W_t = np.dot(np.linalg.inv(S_mat_reg),M_t)  # this is an 1D array of dimension 3M\n",
    "            # reshape to a matrix W_mat  \n",
    "            W_mat = W_t.reshape((3, num_basis), order='F')  # shape 3 x M \n",
    "            # make matrix Phi_mat\n",
    "            Phi_mat = self.data_mat_t[t,:,:].T  # dimension M x N_MC\n",
    "            # compute matrix U_mat of dimension N_MC x 3 \n",
    "            U_mat = np.dot(W_mat, Phi_mat)\n",
    "            # compute vectors U_W^0,U_W^1,U_W^2 as rows of matrix U_mat  \n",
    "            U_W_0 = U_mat[0,:]\n",
    "            U_W_1 = U_mat[1,:]\n",
    "            U_W_2 = U_mat[2,:]\n",
    "\n",
    "            # IMPORTANT!!! Instead, use hedges computed as in DP approach:\n",
    "            # in this way, errors of function approximation do not back-propagate. \n",
    "            # This provides a stable solution, unlike\n",
    "            # the first method that leads to a diverging solution \n",
    "            A_mat = function_A_vec(t, self.delta_S_hat, self.data_mat_t, self.reg_param)\n",
    "            B_vec = function_B_vec(t, Pi_hat, self.delta_S_hat, self.S, self.data_mat_t, self.gamma, self.risk_lambda)\n",
    "            # print ('t =  A_mat.shape = B_vec.shape = ', t, A_mat.shape, B_vec.shape)\n",
    "            phi = np.dot(np.linalg.inv(A_mat), B_vec)\n",
    "            a_opt[:,t] = np.dot(self.data_mat_t[t,:,:],phi)\n",
    "            a_star.loc[:,t] = a_opt[:,t] \n",
    "    \n",
    "    \n",
    "            max_Q_star[:,t] = U_W_0 + a_opt[:,t] * U_W_1 + 0.5 * (a_opt[:,t]**2) * U_W_2       \n",
    "            # update dataframes     \n",
    "            Q_star.loc[:,t] = max_Q_star[:,t]\n",
    "            \n",
    "            \n",
    "            # update the Q_RL solution given by a dot product of two matrices W_t Psi_t\n",
    "            Psi_t = self.Psi_mat[:,:,t].T  # dimension N_MC x 3M  \n",
    "            Q_RL.loc[:,t] = np.dot(Psi_t, W_t)\n",
    "\n",
    "            # trim outliers for Q_RL\n",
    "            up_percentile_Q_RL =  95 \n",
    "            low_percentile_Q_RL = 5 \n",
    "\n",
    "            low_perc_Q_RL, up_perc_Q_RL = np.percentile(Q_RL.loc[:,t],[low_percentile_Q_RL,up_percentile_Q_RL])\n",
    "\n",
    "            # print('t = %s low_perc_Q_RL = %s up_perc_Q_RL = %s' % (t, low_perc_Q_RL, up_perc_Q_RL))\n",
    "\n",
    "            # trim outliers in values of max_Q_star:\n",
    "            flag_lower = Q_RL.loc[:,t].values < low_perc_Q_RL\n",
    "            flag_upper = Q_RL.loc[:,t].values > up_perc_Q_RL\n",
    "            Q_RL.loc[flag_lower,t] = low_perc_Q_RL\n",
    "            Q_RL.loc[flag_upper,t] = up_perc_Q_RL\n",
    "            \n"
   ]
  },
  {
   "cell_type": "code",
   "execution_count": 38,
   "id": "f1068345",
   "metadata": {
    "execution": {
     "iopub.execute_input": "2022-04-29T10:17:52.295522Z",
     "iopub.status.busy": "2022-04-29T10:17:52.295214Z",
     "iopub.status.idle": "2022-04-29T10:17:52.311175Z",
     "shell.execute_reply": "2022-04-29T10:17:52.310334Z",
     "shell.execute_reply.started": "2022-04-29T10:17:52.295492Z"
    },
    "scrolled": true,
    "tags": []
   },
   "outputs": [
    {
     "data": {
      "text/html": [
       "<div>\n",
       "<style scoped>\n",
       "    .dataframe tbody tr th:only-of-type {\n",
       "        vertical-align: middle;\n",
       "    }\n",
       "\n",
       "    .dataframe tbody tr th {\n",
       "        vertical-align: top;\n",
       "    }\n",
       "\n",
       "    .dataframe thead th {\n",
       "        text-align: right;\n",
       "    }\n",
       "</style>\n",
       "<table border=\"1\" class=\"dataframe\">\n",
       "  <thead>\n",
       "    <tr style=\"text-align: right;\">\n",
       "      <th></th>\n",
       "      <th>S0</th>\n",
       "      <th>r</th>\n",
       "      <th>sigma</th>\n",
       "      <th>sigma_true</th>\n",
       "      <th>T</th>\n",
       "    </tr>\n",
       "    <tr>\n",
       "      <th>Date</th>\n",
       "      <th></th>\n",
       "      <th></th>\n",
       "      <th></th>\n",
       "      <th></th>\n",
       "      <th></th>\n",
       "    </tr>\n",
       "  </thead>\n",
       "  <tbody>\n",
       "    <tr>\n",
       "      <th>2021-04-15</th>\n",
       "      <td>65.419998</td>\n",
       "      <td>0.051400</td>\n",
       "      <td>0.491330</td>\n",
       "      <td>0.513597</td>\n",
       "      <td>61</td>\n",
       "    </tr>\n",
       "    <tr>\n",
       "      <th>2021-04-16</th>\n",
       "      <td>66.019997</td>\n",
       "      <td>0.051268</td>\n",
       "      <td>0.491443</td>\n",
       "      <td>0.513710</td>\n",
       "      <td>60</td>\n",
       "    </tr>\n",
       "    <tr>\n",
       "      <th>2021-04-17</th>\n",
       "      <td>65.846665</td>\n",
       "      <td>0.051362</td>\n",
       "      <td>0.491557</td>\n",
       "      <td>0.513824</td>\n",
       "      <td>59</td>\n",
       "    </tr>\n",
       "    <tr>\n",
       "      <th>2021-04-18</th>\n",
       "      <td>65.673332</td>\n",
       "      <td>0.051476</td>\n",
       "      <td>0.491672</td>\n",
       "      <td>0.513939</td>\n",
       "      <td>58</td>\n",
       "    </tr>\n",
       "    <tr>\n",
       "      <th>2021-04-19</th>\n",
       "      <td>65.500000</td>\n",
       "      <td>0.051438</td>\n",
       "      <td>0.491789</td>\n",
       "      <td>0.514056</td>\n",
       "      <td>57</td>\n",
       "    </tr>\n",
       "    <tr>\n",
       "      <th>...</th>\n",
       "      <td>...</td>\n",
       "      <td>...</td>\n",
       "      <td>...</td>\n",
       "      <td>...</td>\n",
       "      <td>...</td>\n",
       "    </tr>\n",
       "    <tr>\n",
       "      <th>2021-06-10</th>\n",
       "      <td>73.220001</td>\n",
       "      <td>0.052534</td>\n",
       "      <td>0.498398</td>\n",
       "      <td>0.520665</td>\n",
       "      <td>5</td>\n",
       "    </tr>\n",
       "    <tr>\n",
       "      <th>2021-06-11</th>\n",
       "      <td>73.760002</td>\n",
       "      <td>0.054070</td>\n",
       "      <td>0.498508</td>\n",
       "      <td>0.520775</td>\n",
       "      <td>4</td>\n",
       "    </tr>\n",
       "    <tr>\n",
       "      <th>2021-06-12</th>\n",
       "      <td>73.253334</td>\n",
       "      <td>0.056273</td>\n",
       "      <td>0.498616</td>\n",
       "      <td>0.520883</td>\n",
       "      <td>3</td>\n",
       "    </tr>\n",
       "    <tr>\n",
       "      <th>2021-06-13</th>\n",
       "      <td>72.746666</td>\n",
       "      <td>0.058152</td>\n",
       "      <td>0.498723</td>\n",
       "      <td>0.520990</td>\n",
       "      <td>2</td>\n",
       "    </tr>\n",
       "    <tr>\n",
       "      <th>2021-06-14</th>\n",
       "      <td>72.239998</td>\n",
       "      <td>0.058443</td>\n",
       "      <td>0.498827</td>\n",
       "      <td>0.521094</td>\n",
       "      <td>1</td>\n",
       "    </tr>\n",
       "  </tbody>\n",
       "</table>\n",
       "<p>61 rows × 5 columns</p>\n",
       "</div>"
      ],
      "text/plain": [
       "                   S0         r     sigma  sigma_true   T\n",
       "Date                                                     \n",
       "2021-04-15  65.419998  0.051400  0.491330    0.513597  61\n",
       "2021-04-16  66.019997  0.051268  0.491443    0.513710  60\n",
       "2021-04-17  65.846665  0.051362  0.491557    0.513824  59\n",
       "2021-04-18  65.673332  0.051476  0.491672    0.513939  58\n",
       "2021-04-19  65.500000  0.051438  0.491789    0.514056  57\n",
       "...               ...       ...       ...         ...  ..\n",
       "2021-06-10  73.220001  0.052534  0.498398    0.520665   5\n",
       "2021-06-11  73.760002  0.054070  0.498508    0.520775   4\n",
       "2021-06-12  73.253334  0.056273  0.498616    0.520883   3\n",
       "2021-06-13  72.746666  0.058152  0.498723    0.520990   2\n",
       "2021-06-14  72.239998  0.058443  0.498827    0.521094   1\n",
       "\n",
       "[61 rows x 5 columns]"
      ]
     },
     "execution_count": 38,
     "metadata": {},
     "output_type": "execute_result"
    }
   ],
   "source": [
    "interp_df"
   ]
  },
  {
   "cell_type": "code",
   "execution_count": 39,
   "id": "fcf4ef97",
   "metadata": {
    "execution": {
     "iopub.execute_input": "2022-04-29T10:17:53.295969Z",
     "iopub.status.busy": "2022-04-29T10:17:53.295700Z",
     "iopub.status.idle": "2022-04-29T10:17:53.338228Z",
     "shell.execute_reply": "2022-04-29T10:17:53.337207Z",
     "shell.execute_reply.started": "2022-04-29T10:17:53.295942Z"
    },
    "scrolled": true,
    "tags": []
   },
   "outputs": [],
   "source": [
    "isCall = False\n",
    "K = 65\n",
    "\n",
    "C_BS = np.zeros(len(interp_df))\n",
    "delta_BS = np.zeros(len(interp_df))\n",
    "\n",
    "for i in range(len(interp_df)):\n",
    "    S0, r, sigma, T = interp_df.iloc[i,0], interp_df.iloc[i,1], interp_df.iloc[i,2], interp_df.iloc[i,4]\n",
    "    M = T/365 \n",
    "                \n",
    "    C_BS[i] = bsm_pv(isCall=isCall, S0=S0, K=K, r=r, sigma=sigma, T=M)\n",
    "    delta_BS[i] = bsm_delta(isCall=isCall, S0=S0, K=K, r=r, sigma=sigma, T=M)"
   ]
  },
  {
   "cell_type": "code",
   "execution_count": 40,
   "id": "ae80587c",
   "metadata": {
    "execution": {
     "iopub.execute_input": "2022-04-29T10:17:55.297366Z",
     "iopub.status.busy": "2022-04-29T10:17:55.297092Z",
     "iopub.status.idle": "2022-04-29T10:17:55.303379Z",
     "shell.execute_reply": "2022-04-29T10:17:55.302519Z",
     "shell.execute_reply.started": "2022-04-29T10:17:55.297340Z"
    },
    "scrolled": true,
    "tags": []
   },
   "outputs": [],
   "source": [
    "interp_df['C_BS'] = C_BS\n",
    "interp_df['delta_BS'] = delta_BS"
   ]
  },
  {
   "cell_type": "code",
   "execution_count": 41,
   "id": "129ac4ff",
   "metadata": {
    "execution": {
     "iopub.execute_input": "2022-04-29T10:17:55.548992Z",
     "iopub.status.busy": "2022-04-29T10:17:55.548763Z",
     "iopub.status.idle": "2022-04-29T10:17:55.565866Z",
     "shell.execute_reply": "2022-04-29T10:17:55.565173Z",
     "shell.execute_reply.started": "2022-04-29T10:17:55.548966Z"
    },
    "scrolled": true,
    "tags": []
   },
   "outputs": [
    {
     "data": {
      "text/html": [
       "<div>\n",
       "<style scoped>\n",
       "    .dataframe tbody tr th:only-of-type {\n",
       "        vertical-align: middle;\n",
       "    }\n",
       "\n",
       "    .dataframe tbody tr th {\n",
       "        vertical-align: top;\n",
       "    }\n",
       "\n",
       "    .dataframe thead th {\n",
       "        text-align: right;\n",
       "    }\n",
       "</style>\n",
       "<table border=\"1\" class=\"dataframe\">\n",
       "  <thead>\n",
       "    <tr style=\"text-align: right;\">\n",
       "      <th></th>\n",
       "      <th>S0</th>\n",
       "      <th>r</th>\n",
       "      <th>sigma</th>\n",
       "      <th>sigma_true</th>\n",
       "      <th>T</th>\n",
       "      <th>C_BS</th>\n",
       "      <th>delta_BS</th>\n",
       "    </tr>\n",
       "    <tr>\n",
       "      <th>Date</th>\n",
       "      <th></th>\n",
       "      <th></th>\n",
       "      <th></th>\n",
       "      <th></th>\n",
       "      <th></th>\n",
       "      <th></th>\n",
       "      <th></th>\n",
       "    </tr>\n",
       "  </thead>\n",
       "  <tbody>\n",
       "    <tr>\n",
       "      <th>2021-04-15</th>\n",
       "      <td>65.419998</td>\n",
       "      <td>0.051400</td>\n",
       "      <td>0.491330</td>\n",
       "      <td>0.513597</td>\n",
       "      <td>61</td>\n",
       "      <td>4.720855</td>\n",
       "      <td>-0.430437</td>\n",
       "    </tr>\n",
       "    <tr>\n",
       "      <th>2021-04-16</th>\n",
       "      <td>66.019997</td>\n",
       "      <td>0.051268</td>\n",
       "      <td>0.491443</td>\n",
       "      <td>0.513710</td>\n",
       "      <td>60</td>\n",
       "      <td>4.431772</td>\n",
       "      <td>-0.412910</td>\n",
       "    </tr>\n",
       "    <tr>\n",
       "      <th>2021-04-17</th>\n",
       "      <td>65.846665</td>\n",
       "      <td>0.051362</td>\n",
       "      <td>0.491557</td>\n",
       "      <td>0.513824</td>\n",
       "      <td>59</td>\n",
       "      <td>4.466099</td>\n",
       "      <td>-0.418275</td>\n",
       "    </tr>\n",
       "    <tr>\n",
       "      <th>2021-04-18</th>\n",
       "      <td>65.673332</td>\n",
       "      <td>0.051476</td>\n",
       "      <td>0.491672</td>\n",
       "      <td>0.513939</td>\n",
       "      <td>58</td>\n",
       "      <td>4.500948</td>\n",
       "      <td>-0.423749</td>\n",
       "    </tr>\n",
       "    <tr>\n",
       "      <th>2021-04-19</th>\n",
       "      <td>65.500000</td>\n",
       "      <td>0.051438</td>\n",
       "      <td>0.491789</td>\n",
       "      <td>0.514056</td>\n",
       "      <td>57</td>\n",
       "      <td>4.537201</td>\n",
       "      <td>-0.429387</td>\n",
       "    </tr>\n",
       "    <tr>\n",
       "      <th>...</th>\n",
       "      <td>...</td>\n",
       "      <td>...</td>\n",
       "      <td>...</td>\n",
       "      <td>...</td>\n",
       "      <td>...</td>\n",
       "      <td>...</td>\n",
       "      <td>...</td>\n",
       "    </tr>\n",
       "    <tr>\n",
       "      <th>2021-06-10</th>\n",
       "      <td>73.220001</td>\n",
       "      <td>0.052534</td>\n",
       "      <td>0.498398</td>\n",
       "      <td>0.520665</td>\n",
       "      <td>5</td>\n",
       "      <td>0.029531</td>\n",
       "      <td>-0.018630</td>\n",
       "    </tr>\n",
       "    <tr>\n",
       "      <th>2021-06-11</th>\n",
       "      <td>73.760002</td>\n",
       "      <td>0.054070</td>\n",
       "      <td>0.498508</td>\n",
       "      <td>0.520775</td>\n",
       "      <td>4</td>\n",
       "      <td>0.008863</td>\n",
       "      <td>-0.006945</td>\n",
       "    </tr>\n",
       "    <tr>\n",
       "      <th>2021-06-12</th>\n",
       "      <td>73.253334</td>\n",
       "      <td>0.056273</td>\n",
       "      <td>0.498616</td>\n",
       "      <td>0.520883</td>\n",
       "      <td>3</td>\n",
       "      <td>0.003831</td>\n",
       "      <td>-0.003712</td>\n",
       "    </tr>\n",
       "    <tr>\n",
       "      <th>2021-06-13</th>\n",
       "      <td>72.746666</td>\n",
       "      <td>0.058152</td>\n",
       "      <td>0.498723</td>\n",
       "      <td>0.520990</td>\n",
       "      <td>2</td>\n",
       "      <td>0.000787</td>\n",
       "      <td>-0.001045</td>\n",
       "    </tr>\n",
       "    <tr>\n",
       "      <th>2021-06-14</th>\n",
       "      <td>72.239998</td>\n",
       "      <td>0.058443</td>\n",
       "      <td>0.498827</td>\n",
       "      <td>0.521094</td>\n",
       "      <td>1</td>\n",
       "      <td>0.000010</td>\n",
       "      <td>-0.000024</td>\n",
       "    </tr>\n",
       "  </tbody>\n",
       "</table>\n",
       "<p>61 rows × 7 columns</p>\n",
       "</div>"
      ],
      "text/plain": [
       "                   S0         r     sigma  sigma_true   T      C_BS  delta_BS\n",
       "Date                                                                         \n",
       "2021-04-15  65.419998  0.051400  0.491330    0.513597  61  4.720855 -0.430437\n",
       "2021-04-16  66.019997  0.051268  0.491443    0.513710  60  4.431772 -0.412910\n",
       "2021-04-17  65.846665  0.051362  0.491557    0.513824  59  4.466099 -0.418275\n",
       "2021-04-18  65.673332  0.051476  0.491672    0.513939  58  4.500948 -0.423749\n",
       "2021-04-19  65.500000  0.051438  0.491789    0.514056  57  4.537201 -0.429387\n",
       "...               ...       ...       ...         ...  ..       ...       ...\n",
       "2021-06-10  73.220001  0.052534  0.498398    0.520665   5  0.029531 -0.018630\n",
       "2021-06-11  73.760002  0.054070  0.498508    0.520775   4  0.008863 -0.006945\n",
       "2021-06-12  73.253334  0.056273  0.498616    0.520883   3  0.003831 -0.003712\n",
       "2021-06-13  72.746666  0.058152  0.498723    0.520990   2  0.000787 -0.001045\n",
       "2021-06-14  72.239998  0.058443  0.498827    0.521094   1  0.000010 -0.000024\n",
       "\n",
       "[61 rows x 7 columns]"
      ]
     },
     "execution_count": 41,
     "metadata": {},
     "output_type": "execute_result"
    }
   ],
   "source": [
    "interp_df"
   ]
  },
  {
   "cell_type": "code",
   "execution_count": 42,
   "id": "5ca3f019",
   "metadata": {
    "collapsed": true,
    "execution": {
     "iopub.execute_input": "2022-04-29T10:17:56.293584Z",
     "iopub.status.busy": "2022-04-29T10:17:56.293334Z",
     "iopub.status.idle": "2022-04-29T11:42:28.295308Z",
     "shell.execute_reply": "2022-04-29T11:42:28.292932Z",
     "shell.execute_reply.started": "2022-04-29T10:17:56.293558Z"
    },
    "tags": []
   },
   "outputs": [
    {
     "name": "stdout",
     "output_type": "stream",
     "text": [
      "step 0 from 61 is done..\n",
      "step 1 from 61 is done..\n",
      "step 2 from 61 is done..\n",
      "step 3 from 61 is done..\n",
      "step 4 from 61 is done..\n",
      "step 5 from 61 is done..\n",
      "step 6 from 61 is done..\n",
      "step 7 from 61 is done..\n",
      "step 8 from 61 is done..\n",
      "step 9 from 61 is done..\n",
      "step 10 from 61 is done..\n",
      "step 11 from 61 is done..\n",
      "step 12 from 61 is done..\n",
      "step 13 from 61 is done..\n",
      "step 14 from 61 is done..\n",
      "step 15 from 61 is done..\n",
      "step 16 from 61 is done..\n",
      "step 17 from 61 is done..\n",
      "step 18 from 61 is done..\n",
      "step 19 from 61 is done..\n",
      "step 20 from 61 is done..\n",
      "step 21 from 61 is done..\n",
      "step 22 from 61 is done..\n",
      "step 23 from 61 is done..\n",
      "step 24 from 61 is done..\n",
      "step 25 from 61 is done..\n",
      "step 26 from 61 is done..\n",
      "step 27 from 61 is done..\n",
      "step 28 from 61 is done..\n",
      "step 29 from 61 is done..\n",
      "step 30 from 61 is done..\n",
      "step 31 from 61 is done..\n",
      "step 32 from 61 is done..\n",
      "step 33 from 61 is done..\n",
      "step 34 from 61 is done..\n",
      "step 35 from 61 is done..\n",
      "step 36 from 61 is done..\n",
      "step 37 from 61 is done..\n",
      "step 38 from 61 is done..\n",
      "step 39 from 61 is done..\n",
      "step 40 from 61 is done..\n",
      "step 41 from 61 is done..\n",
      "step 42 from 61 is done..\n",
      "step 43 from 61 is done..\n",
      "step 44 from 61 is done..\n",
      "step 45 from 61 is done..\n",
      "step 46 from 61 is done..\n",
      "step 47 from 61 is done..\n",
      "step 48 from 61 is done..\n",
      "step 49 from 61 is done..\n",
      "step 50 from 61 is done..\n",
      "step 51 from 61 is done..\n",
      "step 52 from 61 is done..\n",
      "step 53 from 61 is done..\n",
      "step 54 from 61 is done..\n",
      "step 55 from 61 is done..\n",
      "step 56 from 61 is done..\n",
      "step 57 from 61 is done..\n",
      "step 58 from 61 is done..\n",
      "step 59 from 61 is done..\n",
      "step 60 from 61 is done..\n"
     ]
    }
   ],
   "source": [
    "mu = mu_fact     # drift\n",
    "isCall = False\n",
    "K = 65 \n",
    "\n",
    "Q_star_QLBS = np.zeros(len(interp_df))\n",
    "a_star_QLBS = np.zeros(len(interp_df))\n",
    "Q_RL_QLBS = np.zeros(len(interp_df))\n",
    "Pi_QLBS = np.zeros(len(interp_df))\n",
    "R_QLBS = np.zeros(len(interp_df))\n",
    "C_QLBS = np.zeros(len(interp_df))\n",
    "\n",
    "slov_S_and_X = {}\n",
    "\n",
    "for i in range(len(interp_df)):\n",
    "    S0, r, sigma, T = interp_df.iloc[i,0], interp_df.iloc[i,1], interp_df.iloc[i,2], interp_df.iloc[i,4]\n",
    "    M = T/365\n",
    "    \n",
    "    model = QLBS(isCall = isCall, mu=mu, K=K, S0=S0, r=r, sigma=sigma, T=T, M=M)\n",
    "    model.roll_backward()              \n",
    "                \n",
    "    Q_star_QLBS[i] = np.mean(Q_star[0])\n",
    "    a_star_QLBS[i] = np.mean(a_star[0])\n",
    "    Q_RL_QLBS[i] = np.mean(Q_RL[0])\n",
    "    Pi_QLBS[i] = np.mean(Pi[0])\n",
    "    R_QLBS[i] = np.mean(R[0])\n",
    "    C_QLBS[i] = - Q_star_QLBS[i]\n",
    "    \n",
    "    slov_S_and_X[i] = {}\n",
    "    slov_S_and_X[i]['S'] = S\n",
    "    slov_S_and_X[i]['X'] = X\n",
    "    \n",
    "    print(f'step {i} from {len(interp_df)} is done..')\n"
   ]
  },
  {
   "cell_type": "code",
   "execution_count": 43,
   "id": "6c2f85ea",
   "metadata": {
    "execution": {
     "iopub.execute_input": "2022-04-29T11:42:30.959233Z",
     "iopub.status.busy": "2022-04-29T11:42:30.959021Z",
     "iopub.status.idle": "2022-04-29T11:42:30.967521Z",
     "shell.execute_reply": "2022-04-29T11:42:30.966828Z",
     "shell.execute_reply.started": "2022-04-29T11:42:30.959210Z"
    },
    "scrolled": true
   },
   "outputs": [],
   "source": [
    "interp_df['C_QLBS'] = C_QLBS\n",
    "interp_df['Q_star_QLBS'] = Q_star_QLBS\n",
    "interp_df['a_star_QLBS'] = a_star_QLBS\n",
    "interp_df['Q_RL_QLBS'] = Q_RL_QLBS\n",
    "interp_df['Pi_QLBS'] = Pi_QLBS\n",
    "interp_df['R_QLBS'] = R_QLBS"
   ]
  },
  {
   "cell_type": "code",
   "execution_count": 44,
   "id": "8ec92740",
   "metadata": {
    "execution": {
     "iopub.execute_input": "2022-04-29T11:42:30.969410Z",
     "iopub.status.busy": "2022-04-29T11:42:30.969199Z",
     "iopub.status.idle": "2022-04-29T11:42:30.991831Z",
     "shell.execute_reply": "2022-04-29T11:42:30.991208Z",
     "shell.execute_reply.started": "2022-04-29T11:42:30.969387Z"
    },
    "scrolled": true
   },
   "outputs": [
    {
     "data": {
      "text/html": [
       "<div>\n",
       "<style scoped>\n",
       "    .dataframe tbody tr th:only-of-type {\n",
       "        vertical-align: middle;\n",
       "    }\n",
       "\n",
       "    .dataframe tbody tr th {\n",
       "        vertical-align: top;\n",
       "    }\n",
       "\n",
       "    .dataframe thead th {\n",
       "        text-align: right;\n",
       "    }\n",
       "</style>\n",
       "<table border=\"1\" class=\"dataframe\">\n",
       "  <thead>\n",
       "    <tr style=\"text-align: right;\">\n",
       "      <th></th>\n",
       "      <th>S0</th>\n",
       "      <th>r</th>\n",
       "      <th>sigma</th>\n",
       "      <th>sigma_true</th>\n",
       "      <th>T</th>\n",
       "      <th>C_BS</th>\n",
       "      <th>delta_BS</th>\n",
       "      <th>C_QLBS</th>\n",
       "      <th>Q_star_QLBS</th>\n",
       "      <th>a_star_QLBS</th>\n",
       "      <th>Q_RL_QLBS</th>\n",
       "      <th>Pi_QLBS</th>\n",
       "      <th>R_QLBS</th>\n",
       "    </tr>\n",
       "    <tr>\n",
       "      <th>Date</th>\n",
       "      <th></th>\n",
       "      <th></th>\n",
       "      <th></th>\n",
       "      <th></th>\n",
       "      <th></th>\n",
       "      <th></th>\n",
       "      <th></th>\n",
       "      <th></th>\n",
       "      <th></th>\n",
       "      <th></th>\n",
       "      <th></th>\n",
       "      <th></th>\n",
       "      <th></th>\n",
       "    </tr>\n",
       "  </thead>\n",
       "  <tbody>\n",
       "    <tr>\n",
       "      <th>2021-04-15</th>\n",
       "      <td>65.419998</td>\n",
       "      <td>0.051400</td>\n",
       "      <td>0.491330</td>\n",
       "      <td>0.513597</td>\n",
       "      <td>61</td>\n",
       "      <td>4.720855</td>\n",
       "      <td>-0.430437</td>\n",
       "      <td>7.271278</td>\n",
       "      <td>-7.271278</td>\n",
       "      <td>-0.376023</td>\n",
       "      <td>-7.272567</td>\n",
       "      <td>4.560389</td>\n",
       "      <td>-0.037953</td>\n",
       "    </tr>\n",
       "    <tr>\n",
       "      <th>2021-04-16</th>\n",
       "      <td>66.019997</td>\n",
       "      <td>0.051268</td>\n",
       "      <td>0.491443</td>\n",
       "      <td>0.513710</td>\n",
       "      <td>60</td>\n",
       "      <td>4.431772</td>\n",
       "      <td>-0.412910</td>\n",
       "      <td>2.549922</td>\n",
       "      <td>-2.549922</td>\n",
       "      <td>-0.319557</td>\n",
       "      <td>-2.560483</td>\n",
       "      <td>4.177716</td>\n",
       "      <td>-0.030320</td>\n",
       "    </tr>\n",
       "    <tr>\n",
       "      <th>2021-04-17</th>\n",
       "      <td>65.846665</td>\n",
       "      <td>0.051362</td>\n",
       "      <td>0.491557</td>\n",
       "      <td>0.513824</td>\n",
       "      <td>59</td>\n",
       "      <td>4.466099</td>\n",
       "      <td>-0.418275</td>\n",
       "      <td>5.148013</td>\n",
       "      <td>-5.148013</td>\n",
       "      <td>-0.352152</td>\n",
       "      <td>-5.148358</td>\n",
       "      <td>4.253986</td>\n",
       "      <td>-0.031080</td>\n",
       "    </tr>\n",
       "    <tr>\n",
       "      <th>2021-04-18</th>\n",
       "      <td>65.673332</td>\n",
       "      <td>0.051476</td>\n",
       "      <td>0.491672</td>\n",
       "      <td>0.513939</td>\n",
       "      <td>58</td>\n",
       "      <td>4.500948</td>\n",
       "      <td>-0.423749</td>\n",
       "      <td>5.150549</td>\n",
       "      <td>-5.150549</td>\n",
       "      <td>-0.355371</td>\n",
       "      <td>-5.148833</td>\n",
       "      <td>4.312490</td>\n",
       "      <td>-0.035100</td>\n",
       "    </tr>\n",
       "    <tr>\n",
       "      <th>2021-04-19</th>\n",
       "      <td>65.500000</td>\n",
       "      <td>0.051438</td>\n",
       "      <td>0.491789</td>\n",
       "      <td>0.514056</td>\n",
       "      <td>57</td>\n",
       "      <td>4.537201</td>\n",
       "      <td>-0.429387</td>\n",
       "      <td>5.185544</td>\n",
       "      <td>-5.185544</td>\n",
       "      <td>-0.332903</td>\n",
       "      <td>-5.185167</td>\n",
       "      <td>4.355124</td>\n",
       "      <td>-0.027917</td>\n",
       "    </tr>\n",
       "    <tr>\n",
       "      <th>...</th>\n",
       "      <td>...</td>\n",
       "      <td>...</td>\n",
       "      <td>...</td>\n",
       "      <td>...</td>\n",
       "      <td>...</td>\n",
       "      <td>...</td>\n",
       "      <td>...</td>\n",
       "      <td>...</td>\n",
       "      <td>...</td>\n",
       "      <td>...</td>\n",
       "      <td>...</td>\n",
       "      <td>...</td>\n",
       "      <td>...</td>\n",
       "    </tr>\n",
       "    <tr>\n",
       "      <th>2021-06-10</th>\n",
       "      <td>73.220001</td>\n",
       "      <td>0.052534</td>\n",
       "      <td>0.498398</td>\n",
       "      <td>0.520665</td>\n",
       "      <td>5</td>\n",
       "      <td>0.029531</td>\n",
       "      <td>-0.018630</td>\n",
       "      <td>0.028620</td>\n",
       "      <td>-0.028620</td>\n",
       "      <td>-0.016254</td>\n",
       "      <td>-0.028621</td>\n",
       "      <td>0.028619</td>\n",
       "      <td>-0.001517</td>\n",
       "    </tr>\n",
       "    <tr>\n",
       "      <th>2021-06-11</th>\n",
       "      <td>73.760002</td>\n",
       "      <td>0.054070</td>\n",
       "      <td>0.498508</td>\n",
       "      <td>0.520775</td>\n",
       "      <td>4</td>\n",
       "      <td>0.008863</td>\n",
       "      <td>-0.006945</td>\n",
       "      <td>0.008539</td>\n",
       "      <td>-0.008539</td>\n",
       "      <td>-0.006140</td>\n",
       "      <td>-0.008539</td>\n",
       "      <td>0.008499</td>\n",
       "      <td>-0.000587</td>\n",
       "    </tr>\n",
       "    <tr>\n",
       "      <th>2021-06-12</th>\n",
       "      <td>73.253334</td>\n",
       "      <td>0.056273</td>\n",
       "      <td>0.498616</td>\n",
       "      <td>0.520883</td>\n",
       "      <td>3</td>\n",
       "      <td>0.003831</td>\n",
       "      <td>-0.003712</td>\n",
       "      <td>0.004783</td>\n",
       "      <td>-0.004783</td>\n",
       "      <td>-0.003952</td>\n",
       "      <td>-0.004783</td>\n",
       "      <td>0.004708</td>\n",
       "      <td>-0.000480</td>\n",
       "    </tr>\n",
       "    <tr>\n",
       "      <th>2021-06-13</th>\n",
       "      <td>72.746666</td>\n",
       "      <td>0.058152</td>\n",
       "      <td>0.498723</td>\n",
       "      <td>0.520990</td>\n",
       "      <td>2</td>\n",
       "      <td>0.000787</td>\n",
       "      <td>-0.001045</td>\n",
       "      <td>0.000262</td>\n",
       "      <td>-0.000262</td>\n",
       "      <td>-0.000271</td>\n",
       "      <td>-0.000262</td>\n",
       "      <td>0.000252</td>\n",
       "      <td>-0.000031</td>\n",
       "    </tr>\n",
       "    <tr>\n",
       "      <th>2021-06-14</th>\n",
       "      <td>72.239998</td>\n",
       "      <td>0.058443</td>\n",
       "      <td>0.498827</td>\n",
       "      <td>0.521094</td>\n",
       "      <td>1</td>\n",
       "      <td>0.000010</td>\n",
       "      <td>-0.000024</td>\n",
       "      <td>-0.000000</td>\n",
       "      <td>0.000000</td>\n",
       "      <td>0.000000</td>\n",
       "      <td>0.000000</td>\n",
       "      <td>0.000000</td>\n",
       "      <td>0.000000</td>\n",
       "    </tr>\n",
       "  </tbody>\n",
       "</table>\n",
       "<p>61 rows × 13 columns</p>\n",
       "</div>"
      ],
      "text/plain": [
       "                   S0         r     sigma  sigma_true   T      C_BS  delta_BS  \\\n",
       "Date                                                                            \n",
       "2021-04-15  65.419998  0.051400  0.491330    0.513597  61  4.720855 -0.430437   \n",
       "2021-04-16  66.019997  0.051268  0.491443    0.513710  60  4.431772 -0.412910   \n",
       "2021-04-17  65.846665  0.051362  0.491557    0.513824  59  4.466099 -0.418275   \n",
       "2021-04-18  65.673332  0.051476  0.491672    0.513939  58  4.500948 -0.423749   \n",
       "2021-04-19  65.500000  0.051438  0.491789    0.514056  57  4.537201 -0.429387   \n",
       "...               ...       ...       ...         ...  ..       ...       ...   \n",
       "2021-06-10  73.220001  0.052534  0.498398    0.520665   5  0.029531 -0.018630   \n",
       "2021-06-11  73.760002  0.054070  0.498508    0.520775   4  0.008863 -0.006945   \n",
       "2021-06-12  73.253334  0.056273  0.498616    0.520883   3  0.003831 -0.003712   \n",
       "2021-06-13  72.746666  0.058152  0.498723    0.520990   2  0.000787 -0.001045   \n",
       "2021-06-14  72.239998  0.058443  0.498827    0.521094   1  0.000010 -0.000024   \n",
       "\n",
       "              C_QLBS  Q_star_QLBS  a_star_QLBS  Q_RL_QLBS   Pi_QLBS    R_QLBS  \n",
       "Date                                                                           \n",
       "2021-04-15  7.271278    -7.271278    -0.376023  -7.272567  4.560389 -0.037953  \n",
       "2021-04-16  2.549922    -2.549922    -0.319557  -2.560483  4.177716 -0.030320  \n",
       "2021-04-17  5.148013    -5.148013    -0.352152  -5.148358  4.253986 -0.031080  \n",
       "2021-04-18  5.150549    -5.150549    -0.355371  -5.148833  4.312490 -0.035100  \n",
       "2021-04-19  5.185544    -5.185544    -0.332903  -5.185167  4.355124 -0.027917  \n",
       "...              ...          ...          ...        ...       ...       ...  \n",
       "2021-06-10  0.028620    -0.028620    -0.016254  -0.028621  0.028619 -0.001517  \n",
       "2021-06-11  0.008539    -0.008539    -0.006140  -0.008539  0.008499 -0.000587  \n",
       "2021-06-12  0.004783    -0.004783    -0.003952  -0.004783  0.004708 -0.000480  \n",
       "2021-06-13  0.000262    -0.000262    -0.000271  -0.000262  0.000252 -0.000031  \n",
       "2021-06-14 -0.000000     0.000000     0.000000   0.000000  0.000000  0.000000  \n",
       "\n",
       "[61 rows x 13 columns]"
      ]
     },
     "execution_count": 44,
     "metadata": {},
     "output_type": "execute_result"
    }
   ],
   "source": [
    "interp_df"
   ]
  },
  {
   "cell_type": "markdown",
   "id": "65330930",
   "metadata": {},
   "source": [
    "### Те же самые расчеты с реальной волатильностью"
   ]
  },
  {
   "cell_type": "code",
   "execution_count": 45,
   "id": "c1ad4101",
   "metadata": {
    "execution": {
     "iopub.execute_input": "2022-04-29T11:42:30.993408Z",
     "iopub.status.busy": "2022-04-29T11:42:30.993104Z",
     "iopub.status.idle": "2022-04-29T11:42:30.996805Z",
     "shell.execute_reply": "2022-04-29T11:42:30.996016Z",
     "shell.execute_reply.started": "2022-04-29T11:42:30.993382Z"
    },
    "scrolled": true
   },
   "outputs": [],
   "source": [
    "#interp_df_true = interp_df.iloc[:,:5]"
   ]
  },
  {
   "cell_type": "code",
   "execution_count": 46,
   "id": "dd970bd5",
   "metadata": {
    "execution": {
     "iopub.execute_input": "2022-04-29T11:42:30.998352Z",
     "iopub.status.busy": "2022-04-29T11:42:30.998144Z",
     "iopub.status.idle": "2022-04-29T11:42:31.027021Z",
     "shell.execute_reply": "2022-04-29T11:42:31.026334Z",
     "shell.execute_reply.started": "2022-04-29T11:42:30.998330Z"
    },
    "scrolled": true
   },
   "outputs": [],
   "source": [
    "# isCall = False\n",
    "# K = 65 \n",
    "\n",
    "\n",
    "# C_BS_true = np.zeros(len(interp_df))\n",
    "# delta_BS_true = np.zeros(len(interp_df))\n",
    "\n",
    "# for i in range(len(interp_df)):\n",
    "#     S0, r, sigma_true, T = interp_df.iloc[i,0], interp_df.iloc[i,1], interp_df.iloc[i,3], interp_df.iloc[i,4]\n",
    "#     M = T/365 \n",
    "                \n",
    "#     C_BS_true[i] = bsm_pv(isCall=isCall, S0=S0, K=K, r=r, sigma=sigma_true, T=M)\n",
    "#     delta_BS_true[i] = bsm_delta(isCall=isCall, S0=S0, K=K, r=r, sigma=sigma_true, T=M)"
   ]
  },
  {
   "cell_type": "code",
   "execution_count": 47,
   "id": "0447dc44",
   "metadata": {
    "scrolled": true
   },
   "outputs": [],
   "source": [
    "# interp_df_true.head()"
   ]
  },
  {
   "cell_type": "code",
   "execution_count": 48,
   "id": "024a93bf",
   "metadata": {
    "execution": {
     "iopub.execute_input": "2022-04-29T11:42:31.028447Z",
     "iopub.status.busy": "2022-04-29T11:42:31.028253Z",
     "iopub.status.idle": "2022-04-29T11:42:31.031964Z",
     "shell.execute_reply": "2022-04-29T11:42:31.031364Z",
     "shell.execute_reply.started": "2022-04-29T11:42:31.028418Z"
    },
    "scrolled": true
   },
   "outputs": [],
   "source": [
    "# interp_df_true['C_BS'] = C_BS_true\n",
    "# interp_df_true['delta_BS'] = delta_BS_true"
   ]
  },
  {
   "cell_type": "code",
   "execution_count": null,
   "id": "dc85a75e",
   "metadata": {
    "scrolled": true
   },
   "outputs": [],
   "source": []
  },
  {
   "cell_type": "code",
   "execution_count": 49,
   "id": "3eb2e22a",
   "metadata": {
    "execution": {
     "iopub.execute_input": "2022-04-29T11:42:31.034593Z",
     "iopub.status.busy": "2022-04-29T11:42:31.034403Z",
     "iopub.status.idle": "2022-04-29T13:09:59.992938Z",
     "shell.execute_reply": "2022-04-29T13:09:59.986075Z",
     "shell.execute_reply.started": "2022-04-29T11:42:31.034574Z"
    },
    "scrolled": false
   },
   "outputs": [],
   "source": [
    "# mu = mu_fact     # drift\n",
    "# isCall = False\n",
    "# K = 65 \n",
    "\n",
    "\n",
    "\n",
    "# Q_star_QLBS_true = np.zeros(len(interp_df))\n",
    "# a_star_QLBS_true = np.zeros(len(interp_df))\n",
    "# Q_RL_QLBS_true = np.zeros(len(interp_df))\n",
    "# Pi_QLBS_true = np.zeros(len(interp_df))\n",
    "# R_QLBS_true = np.zeros(len(interp_df))\n",
    "# C_QLBS_true = np.zeros(len(interp_df))\n",
    "\n",
    "# slov_S_and_X_true = {}\n",
    "\n",
    "# for i in range(len(interp_df)):\n",
    "#     S0, r, sigma_true, T = interp_df.iloc[i,0], interp_df.iloc[i,1], interp_df.iloc[i,3], interp_df.iloc[i,4]\n",
    "#     M = T/365 \n",
    "    \n",
    "#     model = QLBS(isCall = isCall, mu=mu, K=K, S0=S0, r=r, sigma=sigma_true, T=T, M=M)\n",
    "#     model.roll_backward()              \n",
    "                \n",
    "#     Q_star_QLBS_true[i] = np.mean(Q_star[0])\n",
    "#     a_star_QLBS_true[i] = np.mean(a_star[0])\n",
    "#     Q_RL_QLBS_true[i] = np.mean(Q_RL[0])\n",
    "#     Pi_QLBS_true[i] = np.mean(Pi[0])\n",
    "#     R_QLBS_true[i] = np.mean(R[0])\n",
    "#     C_QLBS_true[i] = - Q_star_QLBS_true[i]\n",
    "    \n",
    "#     slov_S_and_X_true[i] = {}\n",
    "#     slov_S_and_X_true[i]['S'] = S\n",
    "#     slov_S_and_X_true[i]['X'] = X\n",
    "    \n",
    "#     print(f'step {i} from {len(interp_df)} is done..')\n",
    "\n"
   ]
  },
  {
   "cell_type": "code",
   "execution_count": 50,
   "id": "01e94765",
   "metadata": {
    "execution": {
     "iopub.execute_input": "2022-04-29T13:10:00.000096Z",
     "iopub.status.busy": "2022-04-29T13:09:59.999766Z",
     "iopub.status.idle": "2022-04-29T13:10:00.005969Z",
     "shell.execute_reply": "2022-04-29T13:10:00.005124Z",
     "shell.execute_reply.started": "2022-04-29T13:10:00.000068Z"
    },
    "scrolled": true
   },
   "outputs": [],
   "source": [
    "# interp_df_true['C_QLBS'] = C_QLBS_true\n",
    "# interp_df_true['Q_star_QLBS'] = Q_star_QLBS_true\n",
    "# interp_df_true['a_star_QLBS'] = a_star_QLBS_true\n",
    "# interp_df_true['Q_RL_QLBS'] = Q_RL_QLBS_true\n",
    "# interp_df_true['Pi_QLBS'] = Pi_QLBS_true\n",
    "# interp_df_true['R_QLBS'] = R_QLBS_true"
   ]
  },
  {
   "cell_type": "code",
   "execution_count": 51,
   "id": "ce3db836",
   "metadata": {
    "execution": {
     "iopub.execute_input": "2022-04-29T13:35:41.675825Z",
     "iopub.status.busy": "2022-04-29T13:35:41.675253Z",
     "iopub.status.idle": "2022-04-29T13:35:41.793654Z",
     "shell.execute_reply": "2022-04-29T13:35:41.792792Z",
     "shell.execute_reply.started": "2022-04-29T13:35:41.675775Z"
    },
    "scrolled": true
   },
   "outputs": [],
   "source": [
    "# interp_df_true"
   ]
  },
  {
   "cell_type": "code",
   "execution_count": null,
   "id": "5754264f",
   "metadata": {
    "scrolled": true
   },
   "outputs": [],
   "source": []
  },
  {
   "cell_type": "markdown",
   "id": "2bc3014f",
   "metadata": {},
   "source": [
    "## Графики"
   ]
  },
  {
   "cell_type": "code",
   "execution_count": 52,
   "id": "5a30f1fc",
   "metadata": {
    "execution": {
     "iopub.execute_input": "2022-04-29T13:36:20.380958Z",
     "iopub.status.busy": "2022-04-29T13:36:20.380627Z",
     "iopub.status.idle": "2022-04-29T13:36:21.894801Z",
     "shell.execute_reply": "2022-04-29T13:36:21.893718Z",
     "shell.execute_reply.started": "2022-04-29T13:36:20.380929Z"
    },
    "scrolled": true,
    "tags": []
   },
   "outputs": [
    {
     "data": {
      "image/png": "[encoded data removed]",
      "text/plain": [
       "<Figure size 432x288 with 1 Axes>"
      ]
     },
     "metadata": {
      "needs_background": "light"
     },
     "output_type": "display_data"
    }
   ],
   "source": [
    "plt.plot(interp_df.iloc[:,5], label=\"C_BS\")\n",
    "plt.plot(interp_df.iloc[:,7], label=\"C_QLBS\")\n",
    "plt.legend()\n",
    "plt.title('Option price')\n",
    "plt.show()"
   ]
  },
  {
   "cell_type": "code",
   "execution_count": 53,
   "id": "578df070",
   "metadata": {
    "execution": {
     "iopub.execute_input": "2022-04-29T13:38:00.685895Z",
     "iopub.status.busy": "2022-04-29T13:38:00.685520Z",
     "iopub.status.idle": "2022-04-29T13:38:02.486057Z",
     "shell.execute_reply": "2022-04-29T13:38:02.485189Z",
     "shell.execute_reply.started": "2022-04-29T13:38:00.685867Z"
    },
    "scrolled": true,
    "tags": []
   },
   "outputs": [],
   "source": [
    "# plt.plot(interp_df_true.iloc[:,5], label=\"C_BS\")\n",
    "# plt.plot(interp_df_true.iloc[:,7], label=\"C_QLBS\")\n",
    "# plt.legend()\n",
    "# plt.title('Option price')\n",
    "# plt.show()"
   ]
  },
  {
   "cell_type": "code",
   "execution_count": 54,
   "id": "0aafc128",
   "metadata": {
    "execution": {
     "iopub.execute_input": "2022-04-29T13:36:57.504941Z",
     "iopub.status.busy": "2022-04-29T13:36:57.504684Z",
     "iopub.status.idle": "2022-04-29T13:36:57.704971Z",
     "shell.execute_reply": "2022-04-29T13:36:57.704185Z",
     "shell.execute_reply.started": "2022-04-29T13:36:57.504912Z"
    },
    "scrolled": true,
    "tags": []
   },
   "outputs": [
    {
     "data": {
      "image/png": "[encoded data removed]",
      "text/plain": [
       "<Figure size 432x288 with 1 Axes>"
      ]
     },
     "metadata": {
      "needs_background": "light"
     },
     "output_type": "display_data"
    }
   ],
   "source": [
    "plt.plot(interp_df.iloc[:,6], label=\"delta_BS\")\n",
    "plt.plot(interp_df.iloc[:,9], label=\"a_star_QLBS\")\n",
    "plt.legend()\n",
    "plt.title('a/delta')\n",
    "plt.show()"
   ]
  },
  {
   "cell_type": "code",
   "execution_count": 55,
   "id": "445874d4",
   "metadata": {
    "execution": {
     "iopub.execute_input": "2022-04-29T13:38:40.321396Z",
     "iopub.status.busy": "2022-04-29T13:38:40.320931Z",
     "iopub.status.idle": "2022-04-29T13:38:41.892706Z",
     "shell.execute_reply": "2022-04-29T13:38:41.891777Z",
     "shell.execute_reply.started": "2022-04-29T13:38:40.321336Z"
    },
    "scrolled": true
   },
   "outputs": [],
   "source": [
    "# plt.plot(interp_df_true.iloc[:,6], label=\"delta_BS\")\n",
    "# plt.plot(interp_df_true.iloc[:,9], label=\"a_star_QLBS\")\n",
    "# plt.legend()\n",
    "# plt.title('a/delta')\n",
    "# plt.show()"
   ]
  },
  {
   "cell_type": "code",
   "execution_count": 56,
   "id": "2c4118f9",
   "metadata": {
    "execution": {
     "iopub.execute_input": "2022-04-29T13:37:23.469338Z",
     "iopub.status.busy": "2022-04-29T13:37:23.468930Z",
     "iopub.status.idle": "2022-04-29T13:37:23.664187Z",
     "shell.execute_reply": "2022-04-29T13:37:23.663219Z",
     "shell.execute_reply.started": "2022-04-29T13:37:23.469288Z"
    },
    "scrolled": true,
    "tags": []
   },
   "outputs": [
    {
     "data": {
      "text/plain": [
       "[<matplotlib.lines.Line2D at 0x141fb4470>]"
      ]
     },
     "execution_count": 56,
     "metadata": {},
     "output_type": "execute_result"
    },
    {
     "data": {
      "image/png": "[encoded data removed]",
      "text/plain": [
       "<Figure size 432x288 with 1 Axes>"
      ]
     },
     "metadata": {
      "needs_background": "light"
     },
     "output_type": "display_data"
    }
   ],
   "source": [
    "plt.plot(interp_df.iloc[:,11]) #Pi"
   ]
  },
  {
   "cell_type": "code",
   "execution_count": 57,
   "id": "2bab30f8",
   "metadata": {
    "execution": {
     "iopub.execute_input": "2022-04-29T13:39:18.096359Z",
     "iopub.status.busy": "2022-04-29T13:39:18.096009Z",
     "iopub.status.idle": "2022-04-29T13:39:19.707024Z",
     "shell.execute_reply": "2022-04-29T13:39:19.706124Z",
     "shell.execute_reply.started": "2022-04-29T13:39:18.096331Z"
    },
    "scrolled": true,
    "tags": []
   },
   "outputs": [],
   "source": [
    "# plt.plot(interp_df_true.iloc[:,11]) #Pi"
   ]
  },
  {
   "cell_type": "code",
   "execution_count": 96,
   "id": "29dc91be",
   "metadata": {
    "execution": {
     "iopub.execute_input": "2022-04-29T13:37:29.233303Z",
     "iopub.status.busy": "2022-04-29T13:37:29.232926Z",
     "iopub.status.idle": "2022-04-29T13:37:29.401423Z",
     "shell.execute_reply": "2022-04-29T13:37:29.400657Z",
     "shell.execute_reply.started": "2022-04-29T13:37:29.233264Z"
    },
    "scrolled": true,
    "tags": []
   },
   "outputs": [
    {
     "data": {
      "text/plain": [
       "[<matplotlib.lines.Line2D at 0x13bbae208>]"
      ]
     },
     "execution_count": 96,
     "metadata": {},
     "output_type": "execute_result"
    },
    {
     "data": {
      "image/png": "[encoded data removed]",
      "text/plain": [
       "<Figure size 432x288 with 1 Axes>"
      ]
     },
     "metadata": {
      "needs_background": "light"
     },
     "output_type": "display_data"
    }
   ],
   "source": [
    "plt.plot(interp_df.iloc[:,12]) #Reward"
   ]
  },
  {
   "cell_type": "code",
   "execution_count": 483,
   "id": "605c6a1e",
   "metadata": {
    "execution": {
     "iopub.execute_input": "2022-04-29T13:39:17.200792Z",
     "iopub.status.busy": "2022-04-29T13:39:17.200402Z",
     "iopub.status.idle": "2022-04-29T13:39:18.094692Z",
     "shell.execute_reply": "2022-04-29T13:39:18.093793Z",
     "shell.execute_reply.started": "2022-04-29T13:39:17.200761Z"
    },
    "scrolled": true
   },
   "outputs": [],
   "source": [
    "# plt.plot(interp_df_true.iloc[:,12]) #Reward"
   ]
  },
  {
   "cell_type": "markdown",
   "id": "406a87db",
   "metadata": {},
   "source": [
    "## Считаем P&L по BS"
   ]
  },
  {
   "cell_type": "code",
   "execution_count": 89,
   "id": "38a0ab80",
   "metadata": {
    "scrolled": true
   },
   "outputs": [
    {
     "name": "stdout",
     "output_type": "stream",
     "text": [
      "Put оказался не выгоден (K > S_T)\n",
      "8.352460955035435\n"
     ]
    }
   ],
   "source": [
    "#def PnL_BS():\n",
    "    option_price_BS = interp_df['C_BS'][0]\n",
    "    T = 61/365\n",
    "    \n",
    "    loss=0\n",
    "    if isCall == True and K < last_stock_price:\n",
    "        print('Call оказался не выгоден (K < S_T)')\n",
    "        loss = last_stock_price - K\n",
    "        \n",
    "    if isCall == False and K < last_stock_price:\n",
    "        print('Put оказался не выгоден (K > S_T)')\n",
    "        loss = K - last_stock_price\n",
    "        \n",
    "    delta_BS_vpered = interp_df['delta_BS'].shift(1)\n",
    "    delta_BS_vpered[0] = 0\n",
    "    delta_hedging_BS = np.sum((interp_df['delta_BS'] - delta_BS_vpered)*interp_df['S0']*np.exp(-interp_df['r']*(T-interp_df['T']/365)))\n",
    "    \n",
    "    delta_last_BS = interp_df['delta_BS'][-1]\n",
    "    no_delta_BS = delta_last_BS*last_stock_price\n",
    "    r = interp_df['r'][-1]\n",
    "    \n",
    "    print(option_price_BS - loss*np.exp(-r*T) - delta_hedging_BS + no_delta_BS*np.exp(-r*T))\n",
    "    "
   ]
  },
  {
   "cell_type": "code",
   "execution_count": 90,
   "id": "a6388260",
   "metadata": {
    "scrolled": true
   },
   "outputs": [
    {
     "name": "stdout",
     "output_type": "stream",
     "text": [
      "Put оказался не выгоден (K > S_T)\n",
      "11.092243007831211\n"
     ]
    }
   ],
   "source": [
    "#def PnL_QLBS():\n",
    "    option_price_QLBS = interp_df['C_QLBS'][0]\n",
    "    T = 61/365\n",
    "    \n",
    "    loss=0\n",
    "    if isCall == True and K < last_stock_price:\n",
    "        print('Call оказался не выгоден (K < S_T)')\n",
    "        loss = last_stock_price - K\n",
    "        \n",
    "    if isCall == False and K < last_stock_price:\n",
    "        print('Put оказался не выгоден (K > S_T)')\n",
    "        loss = K - last_stock_price\n",
    "        \n",
    "    delta_BS_vpered = interp_df['a_star_QLBS'].shift(1)\n",
    "    delta_BS_vpered[0] = 0\n",
    "    delta_hedging_BS = np.sum((interp_df['a_star_QLBS'] - delta_BS_vpered)*interp_df['S0']*np.exp(-interp_df['r']*(T-interp_df['T']/365))) \n",
    "    \n",
    "    delta_last_BS = interp_df['a_star_QLBS'][-1]\n",
    "    no_delta_BS = delta_last_BS*last_stock_price\n",
    "    r = interp_df['r'][-1]\n",
    "    \n",
    "    print(option_price_QLBS - loss*np.exp(-r*T) - delta_hedging_BS + no_delta_BS*np.exp(-r*T))"
   ]
  },
  {
   "cell_type": "code",
   "execution_count": 95,
   "id": "34d72303",
   "metadata": {
    "scrolled": true
   },
   "outputs": [
    {
     "data": {
      "text/plain": [
       "2.550423330081962"
      ]
     },
     "execution_count": 95,
     "metadata": {},
     "output_type": "execute_result"
    }
   ],
   "source": [
    "option_price_QLBS-option_price_BS"
   ]
  },
  {
   "cell_type": "code",
   "execution_count": 318,
   "id": "a65db1e5",
   "metadata": {
    "scrolled": true
   },
   "outputs": [],
   "source": [
    "# plt.plot(model.a.iloc[2632:2635,:])\n",
    "# plt.show()"
   ]
  },
  {
   "cell_type": "code",
   "execution_count": 318,
   "id": "68213560",
   "metadata": {
    "scrolled": true
   },
   "outputs": [],
   "source": [
    "# plt.plot(model.a.iloc[2632:2635,:])\n",
    "# plt.show()"
   ]
  },
  {
   "cell_type": "code",
   "execution_count": 318,
   "id": "bcb12f83",
   "metadata": {
    "scrolled": true
   },
   "outputs": [],
   "source": [
    "# plt.plot(model.a.iloc[2632:2635,:])\n",
    "# plt.show()"
   ]
  },
  {
   "cell_type": "code",
   "execution_count": 318,
   "id": "149e8c31",
   "metadata": {
    "scrolled": true
   },
   "outputs": [],
   "source": [
    "# plt.plot(model.a.iloc[2632:2635,:])\n",
    "# plt.show()"
   ]
  },
  {
   "cell_type": "code",
   "execution_count": 318,
   "id": "541de8a1",
   "metadata": {
    "scrolled": true
   },
   "outputs": [],
   "source": [
    "# plt.plot(model.a.iloc[2632:2635,:])\n",
    "# plt.show()"
   ]
  },
  {
   "cell_type": "code",
   "execution_count": 318,
   "id": "eb488b2b",
   "metadata": {
    "scrolled": true
   },
   "outputs": [],
   "source": [
    "# plt.plot(model.a.iloc[2632:2635,:])\n",
    "# plt.show()"
   ]
  },
  {
   "cell_type": "code",
   "execution_count": 318,
   "id": "09483c42",
   "metadata": {
    "scrolled": true
   },
   "outputs": [],
   "source": [
    "# plt.plot(model.a.iloc[2632:2635,:])\n",
    "# plt.show()"
   ]
  },
  {
   "cell_type": "code",
   "execution_count": 318,
   "id": "170f4a18",
   "metadata": {
    "scrolled": true
   },
   "outputs": [],
   "source": [
    "# plt.plot(model.a.iloc[2632:2635,:])\n",
    "# plt.show()"
   ]
  },
  {
   "cell_type": "code",
   "execution_count": 319,
   "id": "9483f848",
   "metadata": {
    "scrolled": true
   },
   "outputs": [],
   "source": [
    "# plt.plot(Pi.iloc[2632:2635,:])\n",
    "# plt.show()"
   ]
  },
  {
   "cell_type": "code",
   "execution_count": 320,
   "id": "d5a38ed8",
   "metadata": {
    "scrolled": true
   },
   "outputs": [],
   "source": [
    "# plt.plot(R.iloc[2632:2635,:])\n",
    "# plt.show()"
   ]
  },
  {
   "cell_type": "code",
   "execution_count": 321,
   "id": "1bb80010",
   "metadata": {
    "scrolled": true
   },
   "outputs": [],
   "source": [
    "# plt.plot(a_star.iloc[2632:2635,:])\n",
    "# plt.show()"
   ]
  },
  {
   "cell_type": "code",
   "execution_count": 322,
   "id": "2d17758b",
   "metadata": {
    "scrolled": true
   },
   "outputs": [],
   "source": [
    "# plt.plot(Q_star.iloc[2000:4000,:])\n",
    "# plt.show()"
   ]
  },
  {
   "cell_type": "code",
   "execution_count": 323,
   "id": "3c120e01",
   "metadata": {
    "scrolled": true
   },
   "outputs": [],
   "source": [
    "# plt.plot(Q_star.iloc[2632:2635,:])\n",
    "# plt.show()"
   ]
  },
  {
   "cell_type": "code",
   "execution_count": null,
   "id": "8607e156",
   "metadata": {
    "scrolled": true
   },
   "outputs": [],
   "source": []
  },
  {
   "cell_type": "code",
   "execution_count": null,
   "id": "e7ec6666",
   "metadata": {
    "scrolled": true
   },
   "outputs": [],
   "source": [
    "# S0 = 65.42      # initial stock price\n",
    "# mu = 0.015     # drift\n",
    "# sigma = 0.49133002122294384  # volatility\n",
    "# r = 0.0534      # risk-free rate\n",
    "# M = 0.16712328767123288        # maturity\n",
    "# T = 61        # number of time steps\n",
    "\n",
    "# #delta_t = M / T                # time interval\n",
    "# #gamma = np.exp(- r * delta_t)  # discount factor\n",
    "\n",
    "# #N_MC = 10000 # 10000 # 50000   # number of paths\n",
    "\n",
    "# #risk_lambda = 0.001 # 0.001 # 0.0001   # risk aversion\n",
    "# K = 52                                # option strike"
   ]
  },
  {
   "cell_type": "code",
   "execution_count": 98,
   "id": "a42e1e9e",
   "metadata": {},
   "outputs": [],
   "source": [
    "import pickle"
   ]
  },
  {
   "cell_type": "code",
   "execution_count": 124,
   "id": "6acdfa04",
   "metadata": {},
   "outputs": [],
   "source": [
    "eta_list = [0.5, 0.35, 0.25, 0.15]\n",
    "risk_lambda_list = [0.0005, 0.001, 0.005, 0.010]"
   ]
  },
  {
   "cell_type": "code",
   "execution_count": 125,
   "id": "3becfe11",
   "metadata": {},
   "outputs": [],
   "source": [
    "eta = eta_list[0]\n",
    "for rl in risk_lambda_list:\n",
    "    risk_lambda = rl\n",
    "    pickle_name = f'isCall_{isCall}_K_{K}_eta_{eta}_risk_lambda_{rl}'"
   ]
  },
  {
   "cell_type": "code",
   "execution_count": 126,
   "id": "ccde9440",
   "metadata": {},
   "outputs": [
    {
     "data": {
      "text/plain": [
       "'isCall_False_K_65_eta_0.5_risk_lambda_0.01'"
      ]
     },
     "execution_count": 126,
     "metadata": {},
     "output_type": "execute_result"
    }
   ],
   "source": [
    "pickle_name"
   ]
  },
  {
   "cell_type": "code",
   "execution_count": 127,
   "id": "cece37c4",
   "metadata": {},
   "outputs": [],
   "source": [
    "with open(f'progon1/{pickle_name}.pkl','wb') as f:\n",
    "           pickle.dump(interp_df,f)"
   ]
  },
  {
   "cell_type": "code",
   "execution_count": 128,
   "id": "445dd922",
   "metadata": {},
   "outputs": [
    {
     "data": {
      "text/html": [
       "<div>\n",
       "<style scoped>\n",
       "    .dataframe tbody tr th:only-of-type {\n",
       "        vertical-align: middle;\n",
       "    }\n",
       "\n",
       "    .dataframe tbody tr th {\n",
       "        vertical-align: top;\n",
       "    }\n",
       "\n",
       "    .dataframe thead th {\n",
       "        text-align: right;\n",
       "    }\n",
       "</style>\n",
       "<table border=\"1\" class=\"dataframe\">\n",
       "  <thead>\n",
       "    <tr style=\"text-align: right;\">\n",
       "      <th></th>\n",
       "      <th>S0</th>\n",
       "      <th>r</th>\n",
       "      <th>sigma</th>\n",
       "      <th>sigma_true</th>\n",
       "      <th>T</th>\n",
       "      <th>C_BS</th>\n",
       "      <th>delta_BS</th>\n",
       "      <th>C_QLBS</th>\n",
       "      <th>Q_star_QLBS</th>\n",
       "      <th>a_star_QLBS</th>\n",
       "      <th>Q_RL_QLBS</th>\n",
       "      <th>Pi_QLBS</th>\n",
       "      <th>R_QLBS</th>\n",
       "    </tr>\n",
       "    <tr>\n",
       "      <th>Date</th>\n",
       "      <th></th>\n",
       "      <th></th>\n",
       "      <th></th>\n",
       "      <th></th>\n",
       "      <th></th>\n",
       "      <th></th>\n",
       "      <th></th>\n",
       "      <th></th>\n",
       "      <th></th>\n",
       "      <th></th>\n",
       "      <th></th>\n",
       "      <th></th>\n",
       "      <th></th>\n",
       "    </tr>\n",
       "  </thead>\n",
       "  <tbody>\n",
       "    <tr>\n",
       "      <th>2021-04-15</th>\n",
       "      <td>65.419998</td>\n",
       "      <td>0.051400</td>\n",
       "      <td>0.491330</td>\n",
       "      <td>0.513597</td>\n",
       "      <td>61</td>\n",
       "      <td>4.720855</td>\n",
       "      <td>-0.430437</td>\n",
       "      <td>7.271278</td>\n",
       "      <td>-7.271278</td>\n",
       "      <td>-0.376023</td>\n",
       "      <td>-7.272567</td>\n",
       "      <td>4.560389</td>\n",
       "      <td>-0.037953</td>\n",
       "    </tr>\n",
       "    <tr>\n",
       "      <th>2021-04-16</th>\n",
       "      <td>66.019997</td>\n",
       "      <td>0.051268</td>\n",
       "      <td>0.491443</td>\n",
       "      <td>0.513710</td>\n",
       "      <td>60</td>\n",
       "      <td>4.431772</td>\n",
       "      <td>-0.412910</td>\n",
       "      <td>2.549922</td>\n",
       "      <td>-2.549922</td>\n",
       "      <td>-0.319557</td>\n",
       "      <td>-2.560483</td>\n",
       "      <td>4.177716</td>\n",
       "      <td>-0.030320</td>\n",
       "    </tr>\n",
       "    <tr>\n",
       "      <th>2021-04-17</th>\n",
       "      <td>65.846665</td>\n",
       "      <td>0.051362</td>\n",
       "      <td>0.491557</td>\n",
       "      <td>0.513824</td>\n",
       "      <td>59</td>\n",
       "      <td>4.466099</td>\n",
       "      <td>-0.418275</td>\n",
       "      <td>5.148013</td>\n",
       "      <td>-5.148013</td>\n",
       "      <td>-0.352152</td>\n",
       "      <td>-5.148358</td>\n",
       "      <td>4.253986</td>\n",
       "      <td>-0.031080</td>\n",
       "    </tr>\n",
       "    <tr>\n",
       "      <th>2021-04-18</th>\n",
       "      <td>65.673332</td>\n",
       "      <td>0.051476</td>\n",
       "      <td>0.491672</td>\n",
       "      <td>0.513939</td>\n",
       "      <td>58</td>\n",
       "      <td>4.500948</td>\n",
       "      <td>-0.423749</td>\n",
       "      <td>5.150549</td>\n",
       "      <td>-5.150549</td>\n",
       "      <td>-0.355371</td>\n",
       "      <td>-5.148833</td>\n",
       "      <td>4.312490</td>\n",
       "      <td>-0.035100</td>\n",
       "    </tr>\n",
       "    <tr>\n",
       "      <th>2021-04-19</th>\n",
       "      <td>65.500000</td>\n",
       "      <td>0.051438</td>\n",
       "      <td>0.491789</td>\n",
       "      <td>0.514056</td>\n",
       "      <td>57</td>\n",
       "      <td>4.537201</td>\n",
       "      <td>-0.429387</td>\n",
       "      <td>5.185544</td>\n",
       "      <td>-5.185544</td>\n",
       "      <td>-0.332903</td>\n",
       "      <td>-5.185167</td>\n",
       "      <td>4.355124</td>\n",
       "      <td>-0.027917</td>\n",
       "    </tr>\n",
       "    <tr>\n",
       "      <th>...</th>\n",
       "      <td>...</td>\n",
       "      <td>...</td>\n",
       "      <td>...</td>\n",
       "      <td>...</td>\n",
       "      <td>...</td>\n",
       "      <td>...</td>\n",
       "      <td>...</td>\n",
       "      <td>...</td>\n",
       "      <td>...</td>\n",
       "      <td>...</td>\n",
       "      <td>...</td>\n",
       "      <td>...</td>\n",
       "      <td>...</td>\n",
       "    </tr>\n",
       "    <tr>\n",
       "      <th>2021-06-10</th>\n",
       "      <td>73.220001</td>\n",
       "      <td>0.052534</td>\n",
       "      <td>0.498398</td>\n",
       "      <td>0.520665</td>\n",
       "      <td>5</td>\n",
       "      <td>0.029531</td>\n",
       "      <td>-0.018630</td>\n",
       "      <td>0.028620</td>\n",
       "      <td>-0.028620</td>\n",
       "      <td>-0.016254</td>\n",
       "      <td>-0.028621</td>\n",
       "      <td>0.028619</td>\n",
       "      <td>-0.001517</td>\n",
       "    </tr>\n",
       "    <tr>\n",
       "      <th>2021-06-11</th>\n",
       "      <td>73.760002</td>\n",
       "      <td>0.054070</td>\n",
       "      <td>0.498508</td>\n",
       "      <td>0.520775</td>\n",
       "      <td>4</td>\n",
       "      <td>0.008863</td>\n",
       "      <td>-0.006945</td>\n",
       "      <td>0.008539</td>\n",
       "      <td>-0.008539</td>\n",
       "      <td>-0.006140</td>\n",
       "      <td>-0.008539</td>\n",
       "      <td>0.008499</td>\n",
       "      <td>-0.000587</td>\n",
       "    </tr>\n",
       "    <tr>\n",
       "      <th>2021-06-12</th>\n",
       "      <td>73.253334</td>\n",
       "      <td>0.056273</td>\n",
       "      <td>0.498616</td>\n",
       "      <td>0.520883</td>\n",
       "      <td>3</td>\n",
       "      <td>0.003831</td>\n",
       "      <td>-0.003712</td>\n",
       "      <td>0.004783</td>\n",
       "      <td>-0.004783</td>\n",
       "      <td>-0.003952</td>\n",
       "      <td>-0.004783</td>\n",
       "      <td>0.004708</td>\n",
       "      <td>-0.000480</td>\n",
       "    </tr>\n",
       "    <tr>\n",
       "      <th>2021-06-13</th>\n",
       "      <td>72.746666</td>\n",
       "      <td>0.058152</td>\n",
       "      <td>0.498723</td>\n",
       "      <td>0.520990</td>\n",
       "      <td>2</td>\n",
       "      <td>0.000787</td>\n",
       "      <td>-0.001045</td>\n",
       "      <td>0.000262</td>\n",
       "      <td>-0.000262</td>\n",
       "      <td>-0.000271</td>\n",
       "      <td>-0.000262</td>\n",
       "      <td>0.000252</td>\n",
       "      <td>-0.000031</td>\n",
       "    </tr>\n",
       "    <tr>\n",
       "      <th>2021-06-14</th>\n",
       "      <td>72.239998</td>\n",
       "      <td>0.058443</td>\n",
       "      <td>0.498827</td>\n",
       "      <td>0.521094</td>\n",
       "      <td>1</td>\n",
       "      <td>0.000010</td>\n",
       "      <td>-0.000024</td>\n",
       "      <td>-0.000000</td>\n",
       "      <td>0.000000</td>\n",
       "      <td>0.000000</td>\n",
       "      <td>0.000000</td>\n",
       "      <td>0.000000</td>\n",
       "      <td>0.000000</td>\n",
       "    </tr>\n",
       "  </tbody>\n",
       "</table>\n",
       "<p>61 rows × 13 columns</p>\n",
       "</div>"
      ],
      "text/plain": [
       "                   S0         r     sigma  sigma_true   T      C_BS  delta_BS  \\\n",
       "Date                                                                            \n",
       "2021-04-15  65.419998  0.051400  0.491330    0.513597  61  4.720855 -0.430437   \n",
       "2021-04-16  66.019997  0.051268  0.491443    0.513710  60  4.431772 -0.412910   \n",
       "2021-04-17  65.846665  0.051362  0.491557    0.513824  59  4.466099 -0.418275   \n",
       "2021-04-18  65.673332  0.051476  0.491672    0.513939  58  4.500948 -0.423749   \n",
       "2021-04-19  65.500000  0.051438  0.491789    0.514056  57  4.537201 -0.429387   \n",
       "...               ...       ...       ...         ...  ..       ...       ...   \n",
       "2021-06-10  73.220001  0.052534  0.498398    0.520665   5  0.029531 -0.018630   \n",
       "2021-06-11  73.760002  0.054070  0.498508    0.520775   4  0.008863 -0.006945   \n",
       "2021-06-12  73.253334  0.056273  0.498616    0.520883   3  0.003831 -0.003712   \n",
       "2021-06-13  72.746666  0.058152  0.498723    0.520990   2  0.000787 -0.001045   \n",
       "2021-06-14  72.239998  0.058443  0.498827    0.521094   1  0.000010 -0.000024   \n",
       "\n",
       "              C_QLBS  Q_star_QLBS  a_star_QLBS  Q_RL_QLBS   Pi_QLBS    R_QLBS  \n",
       "Date                                                                           \n",
       "2021-04-15  7.271278    -7.271278    -0.376023  -7.272567  4.560389 -0.037953  \n",
       "2021-04-16  2.549922    -2.549922    -0.319557  -2.560483  4.177716 -0.030320  \n",
       "2021-04-17  5.148013    -5.148013    -0.352152  -5.148358  4.253986 -0.031080  \n",
       "2021-04-18  5.150549    -5.150549    -0.355371  -5.148833  4.312490 -0.035100  \n",
       "2021-04-19  5.185544    -5.185544    -0.332903  -5.185167  4.355124 -0.027917  \n",
       "...              ...          ...          ...        ...       ...       ...  \n",
       "2021-06-10  0.028620    -0.028620    -0.016254  -0.028621  0.028619 -0.001517  \n",
       "2021-06-11  0.008539    -0.008539    -0.006140  -0.008539  0.008499 -0.000587  \n",
       "2021-06-12  0.004783    -0.004783    -0.003952  -0.004783  0.004708 -0.000480  \n",
       "2021-06-13  0.000262    -0.000262    -0.000271  -0.000262  0.000252 -0.000031  \n",
       "2021-06-14 -0.000000     0.000000     0.000000   0.000000  0.000000  0.000000  \n",
       "\n",
       "[61 rows x 13 columns]"
      ]
     },
     "execution_count": 128,
     "metadata": {},
     "output_type": "execute_result"
    }
   ],
   "source": [
    "# file = open(f'progon1/{pickle_name}.pkl','rb')\n",
    "# name = pickle.load(file)\n",
    "# name"
   ]
  },
  {
   "cell_type": "code",
   "execution_count": null,
   "id": "e49a5088",
   "metadata": {},
   "outputs": [],
   "source": [
    "#осталась sigma"
   ]
  },
  {
   "cell_type": "code",
   "execution_count": 112,
   "id": "c8b58df8",
   "metadata": {},
   "outputs": [],
   "source": []
  },
  {
   "cell_type": "code",
   "execution_count": 113,
   "id": "821c3462",
   "metadata": {},
   "outputs": [],
   "source": []
  },
  {
   "cell_type": "code",
   "execution_count": 114,
   "id": "3c1bf05a",
   "metadata": {},
   "outputs": [],
   "source": []
  },
  {
   "cell_type": "code",
   "execution_count": null,
   "id": "4e2e15ca",
   "metadata": {},
   "outputs": [],
   "source": []
  }
 ],
 "metadata": {
  "kernelspec": {
   "display_name": "Python 3",
   "language": "python",
   "name": "python3"
  },
  "language_info": {
   "codemirror_mode": {
    "name": "ipython",
    "version": 3
   },
   "file_extension": ".py",
   "mimetype": "text/x-python",
   "name": "python",
   "nbconvert_exporter": "python",
   "pygments_lexer": "ipython3",
   "version": "3.6.8"
  }
 },
 "nbformat": 4,
 "nbformat_minor": 5
}
